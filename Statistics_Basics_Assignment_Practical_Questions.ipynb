{
  "nbformat": 4,
  "nbformat_minor": 0,
  "metadata": {
    "colab": {
      "provenance": []
    },
    "kernelspec": {
      "name": "python3",
      "display_name": "Python 3"
    },
    "language_info": {
      "name": "python"
    }
  },
  "cells": [
    {
      "cell_type": "code",
      "execution_count": null,
      "metadata": {
        "id": "tyAeQec6SQe6"
      },
      "outputs": [],
      "source": [
        "#### Statistics Basics Assignment Practical Questions ####"
      ]
    },
    {
      "cell_type": "markdown",
      "source": [
        "1. How do you calculate the mean, median, and mode of a dataset?\n"
      ],
      "metadata": {
        "id": "JEhGl2q3Sl6-"
      }
    },
    {
      "cell_type": "code",
      "source": [
        "import statistics\n",
        "\n",
        "def calculate_stats(data):\n",
        "  \"\"\"Calculates the mean, median, and mode of a dataset.\n",
        "\n",
        "  Args:\n",
        "    data: A list of numerical values.\n",
        "\n",
        "  Returns:\n",
        "    A dictionary containing the mean, median, and mode of the dataset.\n",
        "    Returns an error message if the dataset is empty or invalid.\n",
        "  \"\"\"\n",
        "  if not data:\n",
        "    return \"Error: Dataset is empty.\"\n",
        "  if not all(isinstance(x, (int, float)) for x in data):\n",
        "      return \"Error: Dataset contains non-numeric values.\"\n",
        "\n",
        "  try:\n",
        "    mean = statistics.mean(data)\n",
        "    median = statistics.median(data)\n",
        "    mode = statistics.mode(data)\n",
        "    return {\"mean\": mean, \"median\": median, \"mode\": mode}\n",
        "  except statistics.StatisticsError:  # Handle cases where mode is not unique\n",
        "    return {\"mean\": mean, \"median\": median, \"mode\": \"No unique mode\"}\n",
        "\n",
        "\n",
        "# Example usage\n",
        "data = [1, 2, 3, 4, 5, 5, 6, 7, 8, 9]\n",
        "stats = calculate_stats(data)\n",
        "print(stats)\n",
        "\n",
        "data2 = [1,2,3,4,5]\n",
        "stats2 = calculate_stats(data2)\n",
        "print(stats2)\n",
        "\n",
        "data3 = [1,1,1,2,2,3,3,3]\n",
        "stats3 = calculate_stats(data3)\n",
        "print(stats3)\n",
        "\n",
        "data4 = []\n",
        "stats4 = calculate_stats(data4)\n",
        "print(stats4)\n",
        "\n",
        "data5 = [1,2,'a']\n",
        "stats5 = calculate_stats(data5)\n",
        "stats5\n"
      ],
      "metadata": {
        "colab": {
          "base_uri": "https://localhost:8080/",
          "height": 105
        },
        "id": "P2wGLfV_StWm",
        "outputId": "ca0562d6-4283-4a16-9e39-44ff353403bc"
      },
      "execution_count": null,
      "outputs": [
        {
          "output_type": "stream",
          "name": "stdout",
          "text": [
            "{'mean': 5, 'median': 5.0, 'mode': 5}\n",
            "{'mean': 3, 'median': 3, 'mode': 1}\n",
            "{'mean': 2, 'median': 2.0, 'mode': 1}\n",
            "Error: Dataset is empty.\n"
          ]
        },
        {
          "output_type": "execute_result",
          "data": {
            "text/plain": [
              "'Error: Dataset contains non-numeric values.'"
            ],
            "application/vnd.google.colaboratory.intrinsic+json": {
              "type": "string"
            }
          },
          "metadata": {},
          "execution_count": 2
        }
      ]
    },
    {
      "cell_type": "markdown",
      "source": [
        "2. Write a Python program to compute the variance and standard deviation of a dataset?"
      ],
      "metadata": {
        "id": "wisc0fkrS0T2"
      }
    },
    {
      "cell_type": "code",
      "source": [
        "import statistics\n",
        "\n",
        "def calculate_variance_stddev(data):\n",
        "    \"\"\"Calculates the variance and standard deviation of a dataset.\n",
        "\n",
        "    Args:\n",
        "      data: A list of numerical values.\n",
        "\n",
        "    Returns:\n",
        "      A dictionary containing the variance and standard deviation of the dataset.\n",
        "      Returns an error message if the input is invalid.\n",
        "    \"\"\"\n",
        "    if not data:\n",
        "        return \"Error: Dataset is empty.\"\n",
        "    if not all(isinstance(x, (int, float)) for x in data):\n",
        "        return \"Error: Dataset contains non-numeric values.\"\n",
        "\n",
        "    try:\n",
        "        variance = statistics.variance(data)\n",
        "        stddev = statistics.stdev(data)\n",
        "        return {\"variance\": variance, \"stddev\": stddev}\n",
        "    except statistics.StatisticsError:\n",
        "        return \"Error: Could not calculate variance/stddev\"\n",
        "\n",
        "\n",
        "# Example usage\n",
        "data = [1, 2, 3, 4, 5, 5, 6, 7, 8, 9]\n",
        "stats = calculate_variance_stddev(data)\n",
        "print(stats)\n",
        "\n",
        "data2 = [1,2,3,4,5]\n",
        "stats2 = calculate_variance_stddev(data2)\n",
        "print(stats2)\n",
        "\n",
        "data3 = [1,1,1,2,2,3,3,3]\n",
        "stats3 = calculate_variance_stddev(data3)\n",
        "print(stats3)\n",
        "\n",
        "data4 = []\n",
        "stats4 = calculate_variance_stddev(data4)\n",
        "print(stats4)\n",
        "\n",
        "data5 = [1,2,'a']\n",
        "stats5 = calculate_variance_stddev(data5)\n",
        "stats5\n"
      ],
      "metadata": {
        "colab": {
          "base_uri": "https://localhost:8080/",
          "height": 105
        },
        "id": "dATi0R0AS4YG",
        "outputId": "af67a37b-66ec-492c-841e-7fa5ec25e455"
      },
      "execution_count": null,
      "outputs": [
        {
          "output_type": "stream",
          "name": "stdout",
          "text": [
            "{'variance': 6.666666666666667, 'stddev': 2.581988897471611}\n",
            "{'variance': 2.5, 'stddev': 1.5811388300841898}\n",
            "{'variance': 0.8571428571428571, 'stddev': 0.9258200997725514}\n",
            "Error: Dataset is empty.\n"
          ]
        },
        {
          "output_type": "execute_result",
          "data": {
            "text/plain": [
              "'Error: Dataset contains non-numeric values.'"
            ],
            "application/vnd.google.colaboratory.intrinsic+json": {
              "type": "string"
            }
          },
          "metadata": {},
          "execution_count": 3
        }
      ]
    },
    {
      "cell_type": "markdown",
      "source": [
        "3. Create a dataset and classify it into nominal, ordinal, interval, and ratio types?"
      ],
      "metadata": {
        "id": "Ls1x3iIWTgMH"
      }
    },
    {
      "cell_type": "code",
      "source": [
        "def create_and_classify_dataset():\n",
        "    \"\"\"Creates a sample dataset and classifies its features.\"\"\"\n",
        "\n",
        "    dataset = {\n",
        "        \"feature_name\": [\"color\", \"education_level\", \"temperature\", \"income\", \"ranking\"],\n",
        "        \"data_points\": [\n",
        "            [\"red\", \"Bachelor's\", 25, 50000, 3],\n",
        "            [\"blue\", \"Master's\", 30, 75000, 1],\n",
        "            [\"green\", \"High School\", 20, 30000, 5],\n",
        "            [\"red\", \"PhD\", 35, 100000, 2],\n",
        "            [\"blue\", \"Bachelor's\", 28, 60000, 4],\n",
        "        ],\n",
        "        \"data_type\": [\n",
        "            \"nominal\", \"ordinal\", \"interval\", \"ratio\", \"ordinal\"\n",
        "        ]\n",
        "    }\n",
        "\n",
        "    print(\"Dataset:\")\n",
        "    for i in range(len(dataset[\"feature_name\"])):\n",
        "      print(f\"{dataset['feature_name'][i]} ({dataset['data_type'][i]}): {dataset['data_points'][0][i]}\")\n",
        "\n",
        "    # Explanation of data types\n",
        "    explanations = {\n",
        "        \"nominal\": \"Categorical data without inherent order (e.g., colors).\",\n",
        "        \"ordinal\": \"Categorical data with a meaningful order but unequal intervals (e.g., education levels, rankings).\",\n",
        "        \"interval\": \"Numerical data with equal intervals but no true zero point (e.g., temperature in Celsius/Fahrenheit).\",\n",
        "        \"ratio\": \"Numerical data with equal intervals and a true zero point (e.g., income, height).\",\n",
        "    }\n",
        "    print(\"\\nData Type Explanations:\")\n",
        "    for data_type, explanation in explanations.items():\n",
        "        print(f\"{data_type}: {explanation}\")\n",
        "\n",
        "\n",
        "create_and_classify_dataset()\n"
      ],
      "metadata": {
        "colab": {
          "base_uri": "https://localhost:8080/"
        },
        "id": "iawej7YaTlCW",
        "outputId": "5e16ec7d-596b-4239-cac9-829d70937940"
      },
      "execution_count": null,
      "outputs": [
        {
          "output_type": "stream",
          "name": "stdout",
          "text": [
            "Dataset:\n",
            "color (nominal): red\n",
            "education_level (ordinal): Bachelor's\n",
            "temperature (interval): 25\n",
            "income (ratio): 50000\n",
            "ranking (ordinal): 3\n",
            "\n",
            "Data Type Explanations:\n",
            "nominal: Categorical data without inherent order (e.g., colors).\n",
            "ordinal: Categorical data with a meaningful order but unequal intervals (e.g., education levels, rankings).\n",
            "interval: Numerical data with equal intervals but no true zero point (e.g., temperature in Celsius/Fahrenheit).\n",
            "ratio: Numerical data with equal intervals and a true zero point (e.g., income, height).\n"
          ]
        }
      ]
    },
    {
      "cell_type": "markdown",
      "source": [
        "4. Implement sampling techniques like random sampling and stratified sampling."
      ],
      "metadata": {
        "id": "MgNzsbOHTuKl"
      }
    },
    {
      "cell_type": "code",
      "source": [
        "import random\n",
        "\n",
        "def random_sampling(data, sample_size):\n",
        "    \"\"\"Performs random sampling on a dataset.\n",
        "\n",
        "    Args:\n",
        "      data: The dataset to sample from.\n",
        "      sample_size: The desired size of the sample.\n",
        "\n",
        "    Returns:\n",
        "      A random sample of the specified size.\n",
        "      Returns an error message if the sample size is invalid.\n",
        "    \"\"\"\n",
        "    if sample_size > len(data) or sample_size <=0:\n",
        "        return \"Error: Invalid sample size.\"\n",
        "    return random.sample(data, sample_size)\n",
        "\n",
        "def stratified_sampling(data, strata, sample_size_per_strata):\n",
        "    \"\"\"Performs stratified sampling on a dataset.\n",
        "\n",
        "    Args:\n",
        "        data: The dataset to sample from (list of tuples, where each tuple represents a data point and its stratum).\n",
        "        strata: A list of unique stratum identifiers.\n",
        "        sample_size_per_strata: The desired sample size for each stratum.\n",
        "\n",
        "    Returns:\n",
        "        A stratified sample of the specified size.\n",
        "        Returns an error message if the strata or sample sizes are invalid.\n",
        "    \"\"\"\n",
        "    if not isinstance(data, list) or not all(isinstance(item, tuple) and len(item) == 2 for item in data):\n",
        "        return \"Error: Data must be a list of (data_point, stratum) tuples.\"\n",
        "\n",
        "    if not isinstance(strata, list) or not all(isinstance(s, (str, int)) for s in strata):\n",
        "        return \"Error: Strata must be a list of strings or integers.\"\n",
        "\n",
        "    if not isinstance(sample_size_per_strata, int) or sample_size_per_strata <= 0:\n",
        "      return \"Error: Invalid sample size per strata\"\n",
        "\n",
        "    stratified_samples = {}\n",
        "\n",
        "    for stratum in strata:\n",
        "        stratum_data = [x[0] for x in data if x[1] == stratum]\n",
        "        if len(stratum_data) < sample_size_per_strata:\n",
        "            return f\"Error: Not enough data points in stratum {stratum} to create a sample of size {sample_size_per_strata}\"\n",
        "\n",
        "        stratified_samples[stratum] = random.sample(stratum_data, sample_size_per_strata)\n",
        "\n",
        "    #Combine samples\n",
        "    combined_sample = []\n",
        "    for stratum in strata:\n",
        "        combined_sample.extend(stratified_samples[stratum])\n",
        "\n",
        "    return combined_sample\n",
        "\n",
        "# Example usage of random sampling\n",
        "dataset = list(range(1, 101))  # Example dataset (numbers from 1 to 100)\n",
        "sample = random_sampling(dataset, 10)\n",
        "print(\"Random Sample:\", sample)\n",
        "\n",
        "\n",
        "# Example usage of stratified sampling\n",
        "data_with_strata = [\n",
        "    (1, 'A'), (2, 'A'), (3, 'A'), (4, 'B'), (5, 'B'), (6, 'B'), (7, 'C'), (8, 'C'), (9, 'C'), (10, 'C')\n",
        "]\n",
        "\n",
        "strata_values = ['A', 'B', 'C']\n",
        "\n",
        "stratified_sample = stratified_sampling(data_with_strata, strata_values, 2)\n",
        "print(\"Stratified Sample:\", stratified_sample)\n"
      ],
      "metadata": {
        "colab": {
          "base_uri": "https://localhost:8080/"
        },
        "id": "m61Fd6FRT6ht",
        "outputId": "39391327-f8ad-433d-e0fb-1f1640bfb2b5"
      },
      "execution_count": null,
      "outputs": [
        {
          "output_type": "stream",
          "name": "stdout",
          "text": [
            "Random Sample: [48, 63, 5, 60, 7, 44, 62, 66, 38, 52]\n",
            "Stratified Sample: [2, 1, 6, 5, 8, 9]\n"
          ]
        }
      ]
    },
    {
      "cell_type": "markdown",
      "source": [
        "5. Write a Python function to calculate the range of a dataset."
      ],
      "metadata": {
        "id": "4X-dowugUCLW"
      }
    },
    {
      "cell_type": "code",
      "source": [
        "def calculate_range(data):\n",
        "    \"\"\"Calculates the range of a dataset.\n",
        "\n",
        "    Args:\n",
        "      data: A list of numerical values.\n",
        "\n",
        "    Returns:\n",
        "      The range of the dataset (max - min).\n",
        "      Returns an error message if the dataset is empty or invalid.\n",
        "    \"\"\"\n",
        "    if not data:\n",
        "        return \"Error: Dataset is empty.\"\n",
        "    if not all(isinstance(x, (int, float)) for x in data):\n",
        "        return \"Error: Dataset contains non-numeric values.\"\n",
        "\n",
        "    return max(data) - min(data)\n",
        "\n",
        "# Example usage\n",
        "data = [1, 2, 3, 4, 5, 5, 6, 7, 8, 9]\n",
        "dataset_range = calculate_range(data)\n",
        "print(f\"Range of the dataset: {dataset_range}\")\n",
        "\n",
        "data2 = []\n",
        "dataset_range2 = calculate_range(data2)\n",
        "print(dataset_range2)\n",
        "\n",
        "data3 = [1,2,'a']\n",
        "dataset_range3 = calculate_range(data3)\n",
        "dataset_range3\n"
      ],
      "metadata": {
        "colab": {
          "base_uri": "https://localhost:8080/",
          "height": 70
        },
        "id": "RlrMkxn6UOX2",
        "outputId": "14260378-4f21-4a6c-f1d7-6a680710e613"
      },
      "execution_count": null,
      "outputs": [
        {
          "output_type": "stream",
          "name": "stdout",
          "text": [
            "Range of the dataset: 8\n",
            "Error: Dataset is empty.\n"
          ]
        },
        {
          "output_type": "execute_result",
          "data": {
            "text/plain": [
              "'Error: Dataset contains non-numeric values.'"
            ],
            "application/vnd.google.colaboratory.intrinsic+json": {
              "type": "string"
            }
          },
          "metadata": {},
          "execution_count": 10
        }
      ]
    },
    {
      "cell_type": "markdown",
      "source": [
        "6. Create a dataset and plot its histogram to visualize skewness."
      ],
      "metadata": {
        "id": "N0TiMWX-UVW-"
      }
    },
    {
      "cell_type": "code",
      "source": [
        "import matplotlib.pyplot as plt\n",
        "import numpy as np\n",
        "\n",
        "# Create a skewed dataset (example: right-skewed)\n",
        "data = np.random.exponential(scale=1, size=1000)  # You can change the distribution and parameters\n",
        "\n",
        "# Plot the histogram\n",
        "plt.hist(data, bins=30, edgecolor='black')  # Adjust bins as needed\n",
        "plt.xlabel('Value')\n",
        "plt.ylabel('Frequency')\n",
        "plt.title('Histogram of Skewed Dataset')\n",
        "plt.show()\n"
      ],
      "metadata": {
        "colab": {
          "base_uri": "https://localhost:8080/",
          "height": 472
        },
        "id": "GziWSV_9UacF",
        "outputId": "18be31ad-5167-4e82-911c-7902bd87f19d"
      },
      "execution_count": null,
      "outputs": [
        {
          "output_type": "display_data",
          "data": {
            "text/plain": [
              "<Figure size 640x480 with 1 Axes>"
            ],
            "image/png": "[encoded data removed]"
          },
          "metadata": {}
        }
      ]
    },
    {
      "cell_type": "markdown",
      "source": [
        "7. Calculate skewness and kurtosis of a dataset using Python libraries."
      ],
      "metadata": {
        "id": "f6uSvbAMUugt"
      }
    },
    {
      "cell_type": "code",
      "source": [
        "from scipy.stats import skew, kurtosis\n",
        "\n",
        "# Example dataset (replace with your actual data)\n",
        "data = np.random.randn(100)  # Example: normally distributed data\n",
        "\n",
        "# Calculate skewness\n",
        "skewness = skew(data)\n",
        "print(f\"Skewness: {skewness}\")\n",
        "\n",
        "# Calculate kurtosis (Fisher's definition, excess kurtosis)\n",
        "kurt = kurtosis(data)\n",
        "print(f\"Kurtosis (Fisher): {kurt}\")\n",
        "\n",
        "# Calculate kurtosis (Pearson's definition)\n",
        "kurt_pearson = kurtosis(data, fisher=False)\n",
        "print(f\"Kurtosis (Pearson): {kurt_pearson}\")\n"
      ],
      "metadata": {
        "colab": {
          "base_uri": "https://localhost:8080/"
        },
        "id": "u3D52G6LUzcl",
        "outputId": "14aa96cd-7cec-47d8-a103-6536ebf438c0"
      },
      "execution_count": null,
      "outputs": [
        {
          "output_type": "stream",
          "name": "stdout",
          "text": [
            "Skewness: 0.1578058044342519\n",
            "Kurtosis (Fisher): 0.7431087130688976\n",
            "Kurtosis (Pearson): 3.7431087130688976\n"
          ]
        }
      ]
    },
    {
      "cell_type": "markdown",
      "source": [
        "8. Generate a dataset and demonstrate positive and negative skewness."
      ],
      "metadata": {
        "id": "FPlhjmYEU6T1"
      }
    },
    {
      "cell_type": "code",
      "source": [
        "# Generate a positively skewed dataset\n",
        "positive_skew_data = np.random.gamma(2, 2, 1000)\n",
        "\n",
        "# Generate a negatively skewed dataset\n",
        "negative_skew_data = -np.random.gamma(2, 2, 1000)\n",
        "\n",
        "# Plot histograms\n",
        "plt.figure(figsize=(12, 5))\n",
        "\n",
        "plt.subplot(1, 2, 1)\n",
        "plt.hist(positive_skew_data, bins=30, edgecolor='black')\n",
        "plt.xlabel('Value')\n",
        "plt.ylabel('Frequency')\n",
        "plt.title('Positively Skewed Dataset')\n",
        "\n",
        "plt.subplot(1, 2, 2)\n",
        "plt.hist(negative_skew_data, bins=30, edgecolor='black')\n",
        "plt.xlabel('Value')\n",
        "plt.ylabel('Frequency')\n",
        "plt.title('Negatively Skewed Dataset')\n",
        "\n",
        "plt.tight_layout()\n",
        "plt.show()\n",
        "\n",
        "# Calculate skewness for verification\n",
        "positive_skewness = skew(positive_skew_data)\n",
        "negative_skewness = skew(negative_skew_data)\n",
        "\n",
        "print(f\"Skewness of positive skewed data: {positive_skewness}\")\n",
        "print(f\"Skewness of negative skewed data: {negative_skewness}\")\n"
      ],
      "metadata": {
        "colab": {
          "base_uri": "https://localhost:8080/",
          "height": 542
        },
        "id": "GnweWoYsVAlV",
        "outputId": "1054ba9d-8d05-4b27-807f-3867f4b36fee"
      },
      "execution_count": null,
      "outputs": [
        {
          "output_type": "display_data",
          "data": {
            "text/plain": [
              "<Figure size 1200x500 with 2 Axes>"
            ],
            "image/png": "[encoded data removed]"
          },
          "metadata": {}
        },
        {
          "output_type": "stream",
          "name": "stdout",
          "text": [
            "Skewness of positive skewed data: 1.5694065197592795\n",
            "Skewness of negative skewed data: -1.3411349300191173\n"
          ]
        }
      ]
    },
    {
      "cell_type": "markdown",
      "source": [
        "9. Write a Python script to calculate covariance between two datasets."
      ],
      "metadata": {
        "id": "I-bJlm9EVHdV"
      }
    },
    {
      "cell_type": "code",
      "source": [
        "import numpy as np\n",
        "\n",
        "def calculate_covariance(dataset1, dataset2):\n",
        "    \"\"\"Calculates the covariance between two datasets.\n",
        "\n",
        "    Args:\n",
        "      dataset1: A list or numpy array of numerical values.\n",
        "      dataset2: A list or numpy array of numerical values.\n",
        "\n",
        "    Returns:\n",
        "      The covariance between the two datasets.\n",
        "      Returns an error message if the input is invalid.\n",
        "    \"\"\"\n",
        "    if not isinstance(dataset1, (list, np.ndarray)) or not isinstance(dataset2, (list, np.ndarray)):\n",
        "        return \"Error: Inputs must be lists or numpy arrays.\"\n",
        "\n",
        "    if len(dataset1) != len(dataset2):\n",
        "        return \"Error: Datasets must have the same length.\"\n",
        "\n",
        "    if not all(isinstance(x, (int, float)) for x in dataset1) or not all(isinstance(x, (int, float)) for x in dataset2):\n",
        "        return \"Error: Datasets must contain numerical values.\"\n",
        "\n",
        "    dataset1 = np.array(dataset1)\n",
        "    dataset2 = np.array(dataset2)\n",
        "\n",
        "    return np.cov(dataset1, dataset2)[0, 1] #Covariance of x and y is at index [0,1] or [1,0]\n",
        "\n",
        "# Example usage:\n",
        "data1 = [1, 2, 3, 4, 5]\n",
        "data2 = [5, 4, 3, 2, 1]\n",
        "covariance = calculate_covariance(data1, data2)\n",
        "print(f\"Covariance: {covariance}\")\n",
        "\n",
        "data3 = [1,2,3,4,5]\n",
        "data4 = [1,2,3,4,6]\n",
        "covariance2 = calculate_covariance(data3,data4)\n",
        "covariance2\n"
      ],
      "metadata": {
        "colab": {
          "base_uri": "https://localhost:8080/"
        },
        "id": "U4HfJB1mVNYV",
        "outputId": "c6cebbab-87b8-40c3-d00e-2c98ead9be63"
      },
      "execution_count": null,
      "outputs": [
        {
          "output_type": "stream",
          "name": "stdout",
          "text": [
            "Covariance: -2.5\n"
          ]
        },
        {
          "output_type": "execute_result",
          "data": {
            "text/plain": [
              "3.0"
            ]
          },
          "metadata": {},
          "execution_count": 14
        }
      ]
    },
    {
      "cell_type": "markdown",
      "source": [
        "10. Write a Python script to calculate the correlation coefficient between two datasets."
      ],
      "metadata": {
        "id": "90gtQtf4VUUt"
      }
    },
    {
      "cell_type": "code",
      "source": [
        "def calculate_correlation(dataset1, dataset2):\n",
        "    \"\"\"Calculates the correlation coefficient between two datasets.\n",
        "\n",
        "    Args:\n",
        "      dataset1: A list or numpy array of numerical values.\n",
        "      dataset2: A list or numpy array of numerical values.\n",
        "\n",
        "    Returns:\n",
        "      The correlation coefficient between the two datasets.\n",
        "      Returns an error message if the input is invalid.\n",
        "    \"\"\"\n",
        "    if not isinstance(dataset1, (list, np.ndarray)) or not isinstance(dataset2, (list, np.ndarray)):\n",
        "        return \"Error: Inputs must be lists or numpy arrays.\"\n",
        "\n",
        "    if len(dataset1) != len(dataset2):\n",
        "        return \"Error: Datasets must have the same length.\"\n",
        "\n",
        "    if not all(isinstance(x, (int, float)) for x in dataset1) or not all(isinstance(x, (int, float)) for x in dataset2):\n",
        "        return \"Error: Datasets must contain numerical values.\"\n",
        "\n",
        "    dataset1 = np.array(dataset1)\n",
        "    dataset2 = np.array(dataset2)\n",
        "\n",
        "    return np.corrcoef(dataset1, dataset2)[0, 1]\n",
        "\n",
        "# Example usage:\n",
        "data1 = [1, 2, 3, 4, 5]\n",
        "data2 = [5, 4, 3, 2, 1]\n",
        "correlation = calculate_correlation(data1, data2)\n",
        "print(f\"Correlation Coefficient: {correlation}\")\n",
        "\n",
        "data3 = [1,2,3,4,5]\n",
        "data4 = [1,2,3,4,6]\n",
        "correlation2 = calculate_correlation(data3,data4)\n",
        "correlation2\n"
      ],
      "metadata": {
        "colab": {
          "base_uri": "https://localhost:8080/"
        },
        "id": "UBVeBHPYVahl",
        "outputId": "4ea61a10-d99a-4952-9340-11d9d2edbfad"
      },
      "execution_count": null,
      "outputs": [
        {
          "output_type": "stream",
          "name": "stdout",
          "text": [
            "Correlation Coefficient: -0.9999999999999999\n"
          ]
        },
        {
          "output_type": "execute_result",
          "data": {
            "text/plain": [
              "0.9863939238321436"
            ]
          },
          "metadata": {},
          "execution_count": 15
        }
      ]
    },
    {
      "cell_type": "markdown",
      "source": [
        "11. Create a scatter plot to visualize the relationship between two variables."
      ],
      "metadata": {
        "id": "zVgBqSBqVhHN"
      }
    },
    {
      "cell_type": "code",
      "source": [
        "import matplotlib.pyplot as plt\n",
        "\n",
        "def create_scatter_plot(x_values, y_values, x_label, y_label, title):\n",
        "    \"\"\"Creates a scatter plot to visualize the relationship between two variables.\n",
        "\n",
        "    Args:\n",
        "        x_values: A list or numpy array of x-values.\n",
        "        y_values: A list or numpy array of y-values.\n",
        "        x_label: Label for the x-axis.\n",
        "        y_label: Label for the y-axis.\n",
        "        title: Title for the plot.\n",
        "    \"\"\"\n",
        "    if len(x_values) != len(y_values):\n",
        "        print(\"Error: x_values and y_values must have the same length.\")\n",
        "        return\n",
        "\n",
        "    plt.figure(figsize=(8, 6))  # Adjust figure size as needed\n",
        "    plt.scatter(x_values, y_values, marker='o', color='blue')  # Customize marker and color\n",
        "    plt.xlabel(x_label)\n",
        "    plt.ylabel(y_label)\n",
        "    plt.title(title)\n",
        "    plt.grid(True)  # Add a grid for better readability\n",
        "    plt.show()\n",
        "\n",
        "\n",
        "# Example Usage\n",
        "x = [1, 2, 3, 4, 5, 6, 7, 8, 9, 10]\n",
        "y = [2, 4, 1, 5, 3, 6, 4, 7, 5, 8]  # Example y-values (replace with your data)\n",
        "\n",
        "create_scatter_plot(x, y, \"X-axis Label\", \"Y-axis Label\", \"Scatter Plot Example\")\n"
      ],
      "metadata": {
        "colab": {
          "base_uri": "https://localhost:8080/",
          "height": 564
        },
        "id": "rlLZjN3PVnUV",
        "outputId": "dd02e9d3-2440-4d7e-a4de-0d185c4d2368"
      },
      "execution_count": null,
      "outputs": [
        {
          "output_type": "display_data",
          "data": {
            "text/plain": [
              "<Figure size 800x600 with 1 Axes>"
            ],
            "image/png": "[encoded data removed]"
          },
          "metadata": {}
        }
      ]
    },
    {
      "cell_type": "markdown",
      "source": [
        "12.  Implement and compare simple random sampling and systematic sampling."
      ],
      "metadata": {
        "id": "p74SlVfYVtNk"
      }
    },
    {
      "cell_type": "code",
      "source": [
        "def systematic_sampling(data, sample_size):\n",
        "    \"\"\"Performs systematic sampling on a dataset.\n",
        "\n",
        "    Args:\n",
        "      data: The dataset to sample from.\n",
        "      sample_size: The desired size of the sample.\n",
        "\n",
        "    Returns:\n",
        "      A systematic sample of the specified size.\n",
        "      Returns an error message if the sample size is invalid.\n",
        "    \"\"\"\n",
        "    if sample_size > len(data) or sample_size <= 0:\n",
        "        return \"Error: Invalid sample size.\"\n",
        "\n",
        "    interval = len(data) // sample_size\n",
        "    start = random.randint(0, interval -1)\n",
        "    indices = [start + i * interval for i in range(sample_size)]\n",
        "    sample = [data[i] for i in indices]\n",
        "    return sample\n",
        "\n",
        "# Example usage\n",
        "dataset = list(range(1, 101))  # Example dataset (numbers from 1 to 100)\n",
        "sample_size = 10\n",
        "\n",
        "random_sample = random_sampling(dataset, sample_size)\n",
        "print(\"Random Sample:\", random_sample)\n",
        "\n",
        "systematic_sample = systematic_sampling(dataset, sample_size)\n",
        "print(\"Systematic Sample:\", systematic_sample)\n",
        "\n",
        "#Comparison (example: mean of samples)\n",
        "\n",
        "print(\"Mean of Random sample:\", statistics.mean(random_sample))\n",
        "print(\"Mean of Systematic Sample:\", statistics.mean(systematic_sample))\n",
        "print(\"Mean of Population\", statistics.mean(dataset))\n"
      ],
      "metadata": {
        "colab": {
          "base_uri": "https://localhost:8080/"
        },
        "id": "QkoXio7iV0lG",
        "outputId": "27ac1570-1196-448b-80dc-f2faad4bacd0"
      },
      "execution_count": null,
      "outputs": [
        {
          "output_type": "stream",
          "name": "stdout",
          "text": [
            "Random Sample: [3, 70, 64, 61, 44, 11, 93, 95, 33, 24]\n",
            "Systematic Sample: [5, 15, 25, 35, 45, 55, 65, 75, 85, 95]\n",
            "Mean of Random sample: 49.8\n",
            "Mean of Systematic Sample: 50\n",
            "Mean of Population 50.5\n"
          ]
        }
      ]
    },
    {
      "cell_type": "markdown",
      "source": [
        "13. Calculate the mean, median, and mode of grouped data."
      ],
      "metadata": {
        "id": "CHUceOV6V-A9"
      }
    },
    {
      "cell_type": "code",
      "source": [
        "def calculate_grouped_stats(data, intervals):\n",
        "    \"\"\"Calculates the mean, median, and mode of grouped data.\n",
        "\n",
        "    Args:\n",
        "        data: A list of tuples, where each tuple represents a data point and its frequency.\n",
        "        intervals: A list of intervals (tuples) representing the groups\n",
        "\n",
        "    Returns:\n",
        "        A dictionary containing the mean, median, and mode of the grouped data.\n",
        "        Returns an error message if the input data is invalid.\n",
        "    \"\"\"\n",
        "    if not isinstance(data, list) or not all(isinstance(item, tuple) and len(item) == 2 for item in data):\n",
        "        return \"Error: Invalid data format. Please provide a list of (value, frequency) tuples.\"\n",
        "\n",
        "    if not isinstance(intervals, list) or not all(isinstance(item, tuple) and len(item) == 2 for item in intervals):\n",
        "      return \"Error: Invalid interval format. Provide a list of (lower_bound, upper_bound) tuples\"\n",
        "\n",
        "\n",
        "    # Calculate the mean\n",
        "    total_sum = 0\n",
        "    total_frequency = 0\n",
        "    for value, frequency in data:\n",
        "      total_sum += value * frequency\n",
        "      total_frequency += frequency\n",
        "    mean = total_sum / total_frequency\n",
        "\n",
        "    #Calculate median\n",
        "    cumulative_frequency = 0\n",
        "    for value, frequency in data:\n",
        "      cumulative_frequency += frequency\n",
        "      if cumulative_frequency >= total_frequency/2:\n",
        "        median = value\n",
        "        break\n",
        "\n",
        "    # Calculate mode (the midpoint of the interval with the highest frequency)\n",
        "    mode_interval = None\n",
        "    max_frequency = 0\n",
        "    for value, frequency in data:\n",
        "      if frequency > max_frequency:\n",
        "        max_frequency = frequency\n",
        "        mode_interval = value\n",
        "\n",
        "    mode = mode_interval\n",
        "\n",
        "    return {\"mean\": mean, \"median\": median, \"mode\": mode}\n",
        "\n",
        "# Example usage:\n",
        "data = [(1,5), (2,10), (3,15), (4,10), (5,5)]\n",
        "intervals = [(1,2), (2,3), (3,4), (4,5)] #example intervals\n",
        "grouped_stats = calculate_grouped_stats(data,intervals)\n",
        "grouped_stats\n"
      ],
      "metadata": {
        "colab": {
          "base_uri": "https://localhost:8080/"
        },
        "id": "Brv7o7lzWLJk",
        "outputId": "c8701ae3-427a-4746-ac18-5681156e40af"
      },
      "execution_count": null,
      "outputs": [
        {
          "output_type": "execute_result",
          "data": {
            "text/plain": [
              "{'mean': 3.0, 'median': 3, 'mode': 3}"
            ]
          },
          "metadata": {},
          "execution_count": 18
        }
      ]
    },
    {
      "cell_type": "markdown",
      "source": [
        "14. Simulate data using Python and calculate its central tendency and dispersion."
      ],
      "metadata": {
        "id": "V9Upls6XWQVt"
      }
    },
    {
      "cell_type": "code",
      "source": [
        "import random\n",
        "import statistics\n",
        "import numpy as np\n",
        "\n",
        "def simulate_and_analyze_data(n_samples, distribution='normal', mu=0, sigma=1):\n",
        "    \"\"\"Simulates data and calculates central tendency and dispersion.\n",
        "\n",
        "    Args:\n",
        "        n_samples: The number of data points to generate.\n",
        "        distribution: The type of distribution to use ('normal', 'uniform', 'exponential').\n",
        "        mu: The mean for normal or exponential distributions.\n",
        "        sigma: The standard deviation for normal distributions or the scale parameter for exponential.\n",
        "\n",
        "    Returns:\n",
        "        A dictionary containing the simulated data and its statistical measures.\n",
        "    \"\"\"\n",
        "\n",
        "    if distribution == 'normal':\n",
        "        data = np.random.normal(loc=mu, scale=sigma, size=n_samples)\n",
        "    elif distribution == 'uniform':\n",
        "        data = np.random.uniform(low=0, high=1, size=n_samples) # Example uniform\n",
        "    elif distribution == 'exponential':\n",
        "        data = np.random.exponential(scale=sigma, size=n_samples)\n",
        "    else:\n",
        "        return \"Error: Invalid distribution specified.\"\n",
        "\n",
        "    mean = np.mean(data)\n",
        "    median = np.median(data)\n",
        "    mode = statistics.mode(data.astype(int))  # Mode might not be well-defined for continuous distributions\n",
        "    variance = np.var(data)\n",
        "    std_dev = np.std(data)\n",
        "    range_data = np.max(data) - np.min(data)  # Calculate range\n",
        "\n",
        "    return {\n",
        "        \"data\": data.tolist(),\n",
        "        \"mean\": mean,\n",
        "        \"median\": median,\n",
        "        \"mode\": mode,\n",
        "        \"variance\": variance,\n",
        "        \"std_dev\": std_dev,\n",
        "        \"range\": range_data\n",
        "    }\n",
        "\n",
        "# Example usage: Simulate normally distributed data\n",
        "simulated_data_normal = simulate_and_analyze_data(1000)\n",
        "print(\"Simulated Normal Distribution data:\")\n",
        "print(simulated_data_normal)\n",
        "\n",
        "# Example usage: Simulate Uniformly distributed data\n",
        "simulated_data_uniform = simulate_and_analyze_data(1000, distribution='uniform')\n",
        "print(\"\\nSimulated Uniform Distribution data:\")\n",
        "print(simulated_data_uniform)\n",
        "\n",
        "\n",
        "# Example usage: Simulate exponentially distributed data\n",
        "simulated_data_exponential = simulate_and_analyze_data(1000, distribution='exponential', mu=0, sigma=2)\n",
        "print(\"\\nSimulated Exponential Distribution data:\")\n",
        "simulated_data_exponential\n"
      ],
      "metadata": {
        "colab": {
          "base_uri": "https://localhost:8080/"
        },
        "id": "-V6nn-7VWW_k",
        "outputId": "b6c894c3-6f5c-4229-f886-c2f3afacce67"
      },
      "execution_count": null,
      "outputs": [
        {
          "output_type": "stream",
          "name": "stdout",
          "text": [
            "Simulated Normal Distribution data:\n",
            "{'data': [0.9726614121909476, 0.4778098782171165, 0.8659274331001963, -0.8816285112654347, -0.5084196979555834, 0.2493299178793841, 0.7112742091556277, -0.018866563975373188, -0.6488482556644729, 0.9485669734019977, 1.0846318544620364, -0.03542653653779754, 1.009167510983421, -1.677078326440962, 0.11353408436181359, -0.16595232147817573, 0.56894661561142, -0.6283486853314091, -0.18122554132421623, 0.1090295289761353, -0.5650891573636276, 0.958746664974347, 0.08213686593154916, -0.15118837756678447, -0.5918471855235827, -2.0612019448855468, -0.34148279116726404, 0.1720310404685882, -0.7524268029375194, -0.9335120692456319, 1.1327063892998657, -0.975208635264946, 1.9624705568217784, 0.27497280063823504, 0.02400741576161981, -0.23201457287563845, 0.5103656503449386, 2.2828886733706857, -0.020838997533145165, 1.686583692321777, 0.6570227823371855, 1.5844573514336158, -1.0309845980704178, 1.52861667561988, -0.7850693493169325, 1.941381718650794, -1.5226479596622207, 0.9339557279867744, -1.3045146383214472, -0.8322318543849051, -0.5151405913842347, -0.09665318709446885, 0.5554510268926989, 0.8183346773449821, -0.24600332015699072, -0.04752118429381826, 0.3214142633231254, -0.7133856991059049, -0.5778779789264507, -0.8689634317509244, -1.5229937697735856, 1.1117967972777696, 0.5652145974816346, -0.17227107645927037, 1.3575056435102133, -0.5309601499581763, -0.7855677685313832, -1.5664922596863584, -2.5836063085309986, -1.4768596174387554, 0.17259424099843648, -0.11549876513702834, -0.884462200004737, 2.4641116892392847, 0.6301959059244203, -0.8051735319369966, -0.13348102599262693, 0.36169496068029716, -1.6408542768020267, 0.12934967704713474, -1.0582376314389625, -0.17629828987708548, 0.9876666462795315, 0.6472788042011495, 0.7314634790342699, -0.19773624520754973, -0.8994683879848052, 0.7269711433025118, 0.785704057939773, 0.6874574929066909, 1.084086122528935, 1.6852155656526908, -0.21967151697972187, -0.6754698748046253, -1.2187537718994799, -0.10777696198916528, 0.7754471594613485, -0.47190108175278433, -1.1795743683292013, 0.5246190548242132, -0.9241373054782859, -0.6722055298537043, 2.755393842483815, 1.3028355528094244, -0.13343323429537607, -0.35387668671312084, 0.1178698502845891, -0.014312801349150434, -0.671177656915068, -0.7565893970596512, -1.5767508156202137, -0.7587491376073486, 1.2548452343712106, -1.5217946690484268, -0.3338304553115196, 0.4072234917677871, 0.5063273360767623, 0.30514114160063527, 0.48472006670939793, -1.214716419147381, 0.7679960538671542, -1.7920222699144135, 2.355197525410529, 0.2063102208663834, 1.2957887561151482, -0.20194737922728442, 1.106973103165649, 0.9621857642745553, 0.9381871186895139, -0.5258001166549147, -0.40015338492679425, 0.960315748429845, -1.1042420242086448, 0.6364035662655089, -0.008136851370294964, -1.2543796192209238, 0.601893003626586, -0.4610430652710992, -1.4453804104843846, 0.2270066542907361, 1.2138095196560508, -0.3919459074524812, -1.6006084534532312, 0.23064124070509565, 2.8170992673627335, 0.24427304240675407, -0.54717847943445, -0.6180370681278414, -0.1732837438291533, 1.9339967222349015, -0.21452562650189813, 0.653103507684616, 1.697864151675742, 1.1991910123480094, -0.642558625852047, -0.796802650789702, -0.36110700117179856, 1.3571345836724145, 0.8849075243500538, -0.24681084765786113, -1.3129374060165662, -1.0265366804444231, -1.0591456886375468, -0.6356213269453547, 0.9893758544627775, -1.3219516640765436, 0.16798379613008269, 1.717465217405844, -0.05201844756629601, 0.1037949929117204, 1.1838193021397831, 0.24815940089207833, -1.3149283039899262, -0.6179865565973512, 0.5033663154556814, 0.039380902338099, 0.39724494101230096, 0.38598888821914806, -0.7190981621862362, -1.36659702203402, -0.048912988017242996, -0.22098280653700833, -0.3632766668423499, 0.5967786873250334, -0.5870131055693236, 0.16686657338217936, -0.0105780807521371, 0.7472985470304161, -0.8632180755616271, -0.7602445055350496, -1.2552046130069408, 1.3753806862706044, -0.892431091375544, -1.2614514860168642, -0.4224060178086686, 1.1501909635512206, -1.1075904176197764, 0.2679967340806428, 0.3630680418814581, 1.2362075790849818, -0.4343727728872602, 1.6093431583791102, 0.12982198079174426, 1.1610863469040789, -1.9012799757200047, 0.41070630058725666, 0.4068347330687283, -0.03337980072681526, -1.2153081751624677, -1.8358599737259886, 1.6134173539252588, -2.3887304729962073, 0.5499569519299984, 0.44874389528965203, -2.2315819500019716, -0.5575862474882908, -2.2541165401699774, 2.0855992186770727, 0.28505155215050176, -0.23758056123075158, 0.15010484076618846, -1.336990561769135, 0.18618218881266915, -0.8279396952172731, -0.9028863068509596, -1.6677120199148165, -2.1539831764571127, -0.3504232313581387, -0.13971423026918603, 0.6819565625095453, -0.30155807412337404, -0.9698804878576358, 0.6806611135428012, -0.4615174425077101, 0.3656956955029242, 1.3720485584102908, 0.7455677263093915, -2.1288953394741514, 0.4575006858782759, 1.8093402786273196, 0.720911168088254, -0.0867337792769714, 0.10036771898878102, 0.06140820950889717, -0.7475536186334234, 0.5443110689798454, -1.411280867659896, 1.4688398371673816, 1.3447377272048935, 1.2151552056048855, -1.6059830061603095, 0.25850279876220783, -0.13353325494589535, 0.05091769810065845, -0.5993276300789553, -0.6653871918349983, 1.2469421958490605, -1.025584677132492, 0.0733011004632871, 1.5607585868609704, 0.8674481658317732, 0.26586404321682655, -1.0164946409732754, -0.06431667105934857, 0.09468529834111819, 1.8480688469785607, 0.0828860321886066, -0.7643392122537955, -0.6512085858641382, 1.2749448315854928, -0.3808127438651282, -0.8133539079912067, 0.6554505571366027, 0.5991062390992379, -0.8846390391891902, 0.5333453552505611, -1.4137083782286348, 1.066548219888028, -1.108391062115114, -1.6527919815630896, -0.7624615491621322, -0.24662311071143841, -0.33335565850989163, 0.36033020837301905, -0.3445635473759976, -0.7024758313287426, 0.8688911731467593, 1.489596144709464, -1.260913149679769, 1.2731256962403656, 1.9561769173082486, 1.0659475493885007, -0.011245861471103655, -0.5644364816977405, -1.1214214528658029, -0.00332536382854576, 0.12557586087462383, 1.0326232449549864, 0.49005477851183726, -1.6644159792997184, -0.5390688375248431, 0.684011675530154, 0.17735741841078909, 1.8289933920593442, -1.8395128266436458, 1.8575751910650704, 0.2866766888541884, -1.0249158773254385, -1.181079137882568, 1.1212412827305014, 0.09201222038669427, 1.0028240661832437, -0.3751333137019975, 0.11415700814418615, -0.133436907620901, 0.03565424043025459, -0.349961023886921, 1.4704987919315151, 1.0696828274571941, 0.871866737631439, 2.3252291545182353, -0.14420971811400282, 0.6549952287226536, 0.5195991258819636, -0.1436811424527073, 3.183623632063443, -1.463097495284428, -0.6428628463359887, -0.8429509847352572, 1.1489489190199282, -0.2173491823142113, -1.691963007681498, 0.03427426120237085, 0.2642963927326473, 0.32913452605431626, -1.397448877467553, -1.8728877707028349, -0.6397600294017168, -0.2989483616854987, 1.270575702827282, -1.0600839361911922, 1.476848911637884, -0.13146983551260052, -0.6250866975882597, 0.041861292770067796, 1.3236982935865205, -0.5272102846406126, 0.00036917690182974497, -1.013456352289539, 0.854890402100479, 1.2838370176719225, 0.6421687017241025, -1.038763988619929, 1.9166671551864134, -0.11252272823392039, 1.6308746132880565, 0.5263877761714899, 1.0930321828378258, -1.1245048518674616, 1.802695290251629, -0.7117072260752663, 0.29308525580552713, 0.22657737527132674, 1.4168503300387736, -1.301493389014642, 1.5505202072569033, -2.323413372759724, 0.9093478524624738, -0.3726169942081383, 0.7260043806745038, -1.8143514938760992, -2.014849453921692, -1.6314819016923763, 1.3850049537464528, 0.773805198598474, 0.6167607353512555, -0.2466719510634759, 0.09431771872839177, -0.42949611046198716, 0.08409160076506675, 0.5489006161526492, 0.7796276177914405, -0.2685915953113977, -0.8857328421535642, -1.8212004597648814, -0.14414642351475038, 1.2661915489432702, 2.2566609038755616, 1.5081421789028517, -1.613508698582799, 0.33202554921324856, -0.2452291693884217, 0.10929666483664559, 0.43006182098095, -0.5013524381764065, -1.5603873376504045, 0.09021370337478826, -0.9858032060902706, -1.0888384431949665, 1.2038166828405468, 0.21321364454297706, 0.920819414586446, -0.8472290604605649, 0.12079218225031059, -0.6254774741814195, -0.23652123304632355, 1.304271282183802, -0.4005398363374938, 0.7691153711690122, 0.30851825182680337, 0.072463999483571, -0.6181651781766296, -0.3356913685178837, 0.2675575839117209, -0.6858005231589918, 0.30399429663504657, -2.324792497680287, 0.18647475015911094, -1.307607301724998, 0.1685043870367502, 0.872115351746366, 0.7603879912766685, 0.215423833160283, 0.4066031063579674, -0.35310689947556495, 1.3853871473098998, 0.10523168183295602, -0.5959757477760638, -1.055453933728219, 1.271594218072031, -0.2962508257389023, -0.18417705055618347, 0.930094143691455, 0.5180438498703742, 1.0311378037034176, -1.1047345880326633, 0.6311495513233405, -2.395470901240431, -0.26002317862816077, 0.26647107718199986, 1.1397918313747055, -0.22735068726914145, 0.23559320590967583, -2.0514505808676713, 1.1867515218374596, -1.428745089227186, -0.3612256934277624, -1.1566305008888678, 0.3629979715251699, 0.1960904048804773, 1.192553842186589, 0.7818826489827703, 0.6054422339850867, -0.7323141688185579, -0.8859550528979157, 1.3136467050948857, -1.2642080732104346, -0.9450629410194737, 1.1149628342588722, 0.5212431110213218, 1.0468468309601016, 0.7806576801812922, 1.7596036913712143, 1.2221606329454748, 1.037047903531546, 0.9043736494051723, 1.210210850666171, 0.4894086236893204, 1.3201224552585682, -0.7075744225526874, -0.28487832176298333, 0.19275483420906284, 0.5866412598426938, -0.8230228039838186, 0.15837134979395698, 0.16469501134677914, 0.09436352261819185, -0.36369547604590075, -1.5193203660403936, 1.7545385888188636, -0.5896104694893668, 0.10485038756860456, 0.38203931791148504, 0.352153329425773, -0.5551338172445437, 0.31517185309079115, 0.13887320726493022, -0.35488606302476927, 0.08454846189285062, 1.3263450288353529, -0.34774139574622626, 0.6084581844380202, -0.2870039290697782, -0.24066906835549204, -0.05150697750487668, 1.2493687528021067, 0.8631190612014857, 0.5365011822746477, -0.8613413449558934, -0.060978584701065854, 0.8883004883482304, 1.1102302098021184, -2.2676860829646643, 0.9542510189657292, 1.1375658226780254, -0.5537265923264669, -1.5593475584434908, 0.22815760706377566, 0.3287165065633967, -0.5909989329518394, 1.2737674739528446, 0.3181371645324667, 0.14787862100650628, 1.3328189120751943, -0.9204382789858359, 1.244948565937553, -2.23471271070703, 0.2705017002636439, 1.1083770810629294, -1.0943434582053777, 1.5466131392364706, -0.12014719907779539, -1.6433795339203325, -0.63608633616385, -0.9249745437759913, 0.8463877096424296, -0.4656379596291024, -1.3137253062206562, 0.1504375721761675, -0.7025826699535738, 0.8430177015985953, -0.7410350892724143, 0.07015203452797178, -0.06799002520140338, -1.5532047948917767, -0.921507914768687, 1.7777124903487698, -0.5203063884290385, 1.0124254765227254, -1.329610621383068, 1.5578507324451722, 0.033336002931373634, 0.49968269396214665, 0.4001387114503087, 0.02509132847468812, 0.5562758724542393, 2.171980020762664, 0.2042712809596975, -1.0688003928272538, -0.5857182664013736, 0.8161849228469846, -1.127929367226526, -2.141940594861376, -0.39893827379109836, -0.5596940928397792, 0.14819440853862514, -1.067768826891929, -0.6012245314816149, 0.6507361329280257, -0.6180267248376945, -0.44836212879817744, -0.01622200125869074, -0.9567242042478203, -0.15352768443126596, -0.6815943187169011, 1.6228898263622134, 0.4994137823155561, 0.7375011679107566, -1.0573967764934884, 0.26270400254270504, -0.12222433034517599, 1.6069839141490279, 0.9349577025816824, -0.8445671899346132, 2.3220475630260626, 1.843321198618661, -0.7437940560557131, 0.045279528512671405, -0.6388454050939436, -0.8980797286931022, 0.41603024831115243, 1.597458684488807, -0.04966049115617235, -0.9871419706274186, 1.5497176937905515, 0.773929730850426, -0.36561067840542266, 1.2755221426593724, 2.0759761538225043, 0.3603377466274453, 0.7079635994923434, 0.6291099648544046, 1.1130847446492251, -2.088647170791486, -0.3168029623971594, 0.037753490543010734, 0.5958479587545352, 0.8862664538117232, 0.05612504807357385, -0.02456852265309426, 0.20823432434482497, 0.3935077520122782, -0.022972782972268818, -0.052930299765829754, 1.0739178001677672, 2.854660120677116, 0.40126978925315093, -1.6804180900215153, -1.4936228307219563, -1.4392514590133505, -0.2410127446076845, -1.0945332181645038, -0.16089986221425842, -0.9143906218812092, 0.9988308313428448, 0.1917077496342055, -0.7379535260471312, -1.270372682604098, -1.6484600222354593, 1.4006529554843354, -0.7071962750199803, -0.13122599888740996, 0.8209685621890911, 0.823092844027263, -0.8236314628471628, -0.6327009484742204, 1.918523571889453, -2.3617613632766834, 0.1350703536867436, 0.30743158074613913, -0.23393218111695635, -0.3484876598869544, 0.49263653440501043, 0.8964188651863497, 0.019376461408961158, -0.4345453258949232, -0.1337928704153674, -1.542190652405986, 1.2870526093393906, 0.1355278613823383, 0.6506164222433409, 1.7413270407446975, 1.3704215199484557, 1.0881799729476758, -0.4831078709730552, -0.3826773520023247, 0.4952814356387036, -0.4059199495870133, 0.9737834598178798, 1.3758460158131744, -2.0068804606109816, 0.4121507976256912, -1.145709050513387, -0.1275614335149436, 0.07059930676999324, 0.2985488758911899, 0.5979257361909966, 0.46879716702766255, -0.13418046817510013, -0.8269022051514399, -1.663750545895853, -1.1155934379491772, 1.2891089299332592, 0.902551085457962, 0.958125469132862, 0.45234525695668676, 0.2627862004843168, 0.2226821944204415, -0.5379197658482474, -0.7623636198597582, 0.29843088196595396, 1.1124976583465647, 1.3539881340025988, -0.09177601953422478, -2.03641429632832, -0.655938923971012, -0.056558482147709185, 0.15215169727641542, -0.012405334652696933, -0.7369429445062602, -0.6912728669584991, 0.9029799370722243, 0.491433674626709, 0.22754002533580905, -1.320568402296556, 0.21673519715738582, 1.5102816998040622, 0.24249985151333764, 0.7103638943827092, -0.15992980102665502, -0.6986870000607811, -1.0384295407977997, -0.41931157658259505, -0.5127174588297031, -1.665093391542263, -0.3954670183518194, 1.9467791539593762, 0.06694279752087968, 1.3945345704549101, 2.2503938359285116, 0.060897267857063515, 0.6704478269189973, -0.7426515430238381, -0.9436424398654725, -1.0130733794000775, -1.8831470916708852, 0.6332055064247708, 2.6712920885816636, 0.42963902693981154, -1.6996544830562714, -0.4385880708849875, -1.0613780687596188, -0.35061288630370385, 0.3349745363263617, -0.6253184967877837, -1.1233551512363087, 0.11759889799274534, 0.7281624741666564, 0.6697433181189263, 0.8365274729505222, -0.34036228200943736, -1.6323443264077144, -0.32305226057798664, -0.8198994424707065, 0.05776359510213834, -0.4058374703154904, -0.9414867421132131, 0.5689406177226332, 0.6135658501684383, 0.08016292209664214, 0.12799158282788778, -0.5389083928282151, -0.020625095622173906, 1.376292593165194, -0.761441915112461, 0.6139217238857325, 1.7472200609152744, -0.2782911769557636, -0.5746551017552762, 0.5729921562662834, 0.04828200409605698, 0.4403166581718421, 0.6539774921907524, 1.8536452942525208, -1.237344580156844, 0.2612133277730308, 0.9546213406058628, 1.5478999953740726, -0.6339304127873404, 0.29026629013392574, -2.3319212642680025, 0.2041636244774837, -2.3095595519423697, 0.14895917571839223, -1.1386274745626932, -0.5739646598678076, 1.5904381355895587, 0.6507111223431697, -0.5664553992484997, 1.3742763414346109, 1.6708677041105247, -0.7435746085510986, 1.289615936264742, 1.1237277447077532, 0.11340893424542785, 0.8526777935212563, -0.030863387016532816, -0.12002410535491735, -0.3912041348378114, 0.3239803653866495, -0.9480569978958792, -0.6080816512216397, 0.19503158489201822, -0.2900580887625171, -0.5204749468336629, -1.2550990659307153, 0.9176374531524769, -1.9430486165383425, 0.5051178589512152, -0.1765048440596666, 0.6913126193071325, -1.2786236917488498, 0.26210999480793756, 0.7305056694463309, 0.3431745554321624, 0.062417716570306696, -0.09736536440242306, 0.523771694356782, -0.10651570505131192, 0.9710737218964429, -0.9989637704080091, -0.11207203676457779, 0.8154564662819856, 1.9573262903178799, -2.027833149770958, 1.95854568210412, 0.6159235547447067, -0.6565193832896646, -0.516705959723491, 1.1022511303832803, -0.6324727299518852, -1.38021468690933, 0.8151735692866535, 1.1491952458176247, 0.010000683728443559, 1.367950515045272, -0.5641571116864995, 0.06472625476785092, 0.4208864016670426, -0.17152190098659384, 1.9226491524972085, -1.0970304397895665, -0.36426021208868636, -0.9034221057422396, 1.1042282951812383, 0.34488262475248416, 0.6827472191297063, 0.07213133620346782, 0.18268101932209804, -0.14923266454715592, -0.708819452847434, -2.113731913905508, 0.15187604969928317, -0.8644014898143545, -0.2887138865403034, 0.22233193478074564, 0.6521148916335044, -0.7512843053680535, -0.6158959901230183, 0.228844983331454, 0.6435552675604385, -0.7831092167037844, 0.009778617238888367, -0.005416541798125351, -1.3570814605359134, 0.2187631237130691, -0.43083521547236076, 0.013170667195069225, -0.49020767884221583, -0.06430240984942695, -0.21804069718060895, -1.535776150227693, 1.0266033144688498, 0.7011243460806575, 0.33904290059150766, -0.3428884075478328, 0.21993118901678332, -2.077953191986808, 0.15597379322322005, 1.3433103868495593, -1.7697686184312025, 0.21092310371773113, -1.2498411707188737, -0.4930914745855665, -0.048206016637881315, -0.5869727965584225, -0.9076688728995592, 0.3370693022280024, 1.0912398067470706, 1.215112217897769, 1.182466151330681, 0.7726811245978279, -0.6786255941057454, 0.14267106488022627, -0.8677375710707956, -0.6941608982628039, 0.46994049359248236, -0.29337891702096164, 0.9259186430629908, -1.7718265071645336, -0.797096886390205, -0.8498828673526978, -2.1050658621481215, -0.676761234653011, 3.3842404370010764, -1.2559909547357238, -0.10507862311304558, 0.18692643573746015, -0.19113908200791613, -0.011637283134694205, 0.18336750800270946, -0.27457482358777585, -0.590362763196185, 2.4949036058632363, -0.44407679573367437, -0.3871678856314998, 1.267142954117931, -0.49781711191144556, 1.4260015241941142, 0.7440663884772363, 0.8271718559507197, -1.3158088658023164, 0.7433759468835981, 1.2418334069368377, 0.19490782149600694, 0.8171989708711896, 0.17912782868057622, -0.49365428075627155, -1.762742880161437, -1.623812911257374, 0.08744061383255797, 0.04438710282139969, -0.4621349099994515, -0.9881008326635129, -2.3015789465378442, 0.24997941458128334, 0.5872093679992806, -1.7660375112874773, 0.11572781870458503, 0.507165611600869, -0.22578660870731546, 0.2824612110860065, -0.5778745234082242, 0.9565623155412714, 2.5678116060093368, 0.012774256265617663, 0.6526928065455203, 0.5912354191879337, -0.20253241943335742, 0.9152797084788554, -0.7973879998883849, -1.858212823207107, -0.48990305395162764, 0.9816395790423996, 0.549816906797202, 0.6748081929513874, 0.7336326281767158, 0.10480938322510588, 1.188559689194013, 0.41559905629466515, 1.0334073159123385, 0.17699353823823963, 1.081178958546471, -0.6714676791576676, -0.6044466409666729, -0.23505052408267796, 0.1443322549600585, -1.1159354752002508, 0.21632532684685557, -0.4241152267309256, -1.903215749496317, -0.21784439755302779, -0.4707362726863967, -1.05901058236787, 0.8708462253084607, 2.1551689599634036, -0.11739106592946688, 0.9125542887336126, -2.020006271801003, 0.8978299350209717, -2.344552315096098, -0.44243292254060235, 0.7483973305208744, -0.6545837023743452, -1.7678126369643763, 0.2840084412150852, -1.4942945670953816, -0.24354179424486103, 0.6814359619123339, -1.240347613199004, -1.355260216434303, 0.38771224689091177, -0.7374421074039478, -2.6472840555642767, -0.6323305519670936, 0.741983429357704, -0.14848859966596936, 1.6638251378672544, 0.777252728698398, -0.667812123815298, 0.9337112387291884, 0.08317108413206417, -1.639181175335027, -0.5712006661441524, 0.4910073354941781, 0.33609827836076883, 1.136187772144876, 0.10661449325361644, 0.054178383964924685, -0.0292156365121007, 0.47365598679346604, -0.0730532775002278, 0.12980579458888597, 0.7954024244785347, -0.6741262655240884, 1.3046053094843468, -1.4353846714373615, 1.6712716489005164, -1.5964655811556356, 0.1805842027464558, 0.40632510768969105, 0.4782665451471502, 0.29975374069176997, -0.34452525913351645, -1.442014063174088, -0.3702711055694485, -0.545521812815431, -0.16519595046139143, -0.6939682655866704, 0.5263705962894427], 'mean': 0.013678338316683773, 'median': 0.052548041032791565, 'mode': 0, 'variance': 1.0013822080194565, 'std_dev': 1.000690865362254, 'range': 6.031524492565353}\n",
            "\n",
            "Simulated Uniform Distribution data:\n",
            "{'data': [0.1922897508029724, 0.6151517555857245, 0.9049869122463743, 0.18603110305248505, 0.7837434733835488, 0.07575226174736283, 0.646568437376324, 0.9789779411333371, 0.21823193088655746, 0.7806824069303101, 0.9245475881307863, 0.010562759609939798, 0.28480383913483565, 0.5793599752218057, 0.26436816718018663, 0.027195127525739715, 0.8287517806615132, 0.8952773877079657, 0.7392188257157268, 0.9254426882016128, 0.10896798264466212, 0.36098136916683177, 0.052577304654509605, 0.09767978559012847, 0.5050168700176187, 0.6198073024666313, 0.32174650804338456, 0.5048019450384319, 0.3536579980842389, 0.1577923556705758, 0.31931422782573315, 0.5955349062263356, 0.28121237173749525, 0.5817818189083991, 0.9715209501349032, 0.308229615623802, 0.6467315044655613, 0.8120087429648668, 0.49644485183467846, 0.5709988338719343, 0.09644468590539845, 0.6699948890747021, 0.7214101148949426, 0.9124288554822289, 0.521989994727759, 0.0479107801655988, 0.2613200100743739, 0.5541272748718907, 0.844650605696903, 0.4898773084413274, 0.8008796827934899, 0.04885940447964743, 0.9284983722755161, 0.036600710680267934, 0.3444231115248997, 0.991828931767661, 0.8193687319810361, 0.17484027702915228, 0.6141902401204893, 0.035931658959699075, 0.07893294367924086, 0.7870021143244098, 0.8967258702619813, 0.32328953600673604, 0.2620721261369813, 0.266284902082073, 0.649014103736747, 0.2901397330157074, 0.4688651590162455, 0.37818377034542183, 0.5664962802427168, 0.8556540928406428, 0.4077416187166125, 0.3663506135207285, 0.6342141146979391, 0.8199611307336037, 0.32225617689825736, 0.5469844239956768, 0.28496082262719546, 0.5492323141809303, 0.869869393683556, 0.6994887809484788, 0.07329238865436705, 0.2106729883823114, 0.07291704106619479, 0.14144251413876097, 0.588938176905825, 0.4256917033194365, 0.3659989975897132, 0.25290558686112075, 0.6608037535396888, 0.046951339586657315, 0.9751092380706397, 0.07997056874739594, 0.49249744733525047, 0.09983731327253831, 0.6331586884202263, 0.774562159512831, 0.650281976631123, 0.7453346884165416, 0.7618307840060615, 0.9487120604097872, 0.36009770808625297, 0.03711753434277776, 0.4633052428312343, 0.9823715464826918, 0.7238005243775945, 0.21811112961427914, 0.37025603681242814, 0.8881074498713977, 0.8373771348781787, 0.6296440073770344, 0.4971579422147161, 0.11762680224178346, 0.7741762492730204, 0.21557827667208196, 0.7812869829993533, 0.8296746718879624, 0.9086567609695089, 0.038131632279263084, 0.1171014513583063, 0.5999469085582589, 0.7164530074479011, 0.6666940218169456, 0.5922673499481108, 0.17897896655831202, 0.1993330709156914, 0.6402845599850717, 0.9164899469252193, 0.7897396115784496, 0.9862855974024468, 0.5954139822644419, 0.6828268027444618, 0.09213670713092281, 0.012887901335423502, 0.11175707746976227, 0.008987528725314942, 0.9494128889949488, 0.949756482052233, 0.34410528881882274, 0.5566951017240334, 0.13165934913312038, 0.393168246810188, 0.7561851475850547, 0.5179925700241863, 0.5453293584725002, 0.9442334690416679, 0.029366436459535517, 0.5509151248241961, 0.6936088134342488, 0.8522406070607955, 0.11036727675437119, 0.7696646109610809, 0.8271897531772473, 0.1919460254044193, 0.7710383829151927, 0.599213618923133, 0.02082381817877832, 0.06146667725180399, 0.23622705499764607, 0.5410896917802966, 0.6423641856934813, 0.6150413792544938, 0.7764235018537071, 0.33436633128749804, 0.792078127292373, 0.8784091837986382, 0.7502817268592304, 0.6090744452194705, 0.7640789678375627, 0.14443760767242175, 0.09773476860457175, 0.21922631318727592, 0.699880914209092, 0.2753156837934392, 0.39334936588461766, 0.7669469661373194, 0.8894803260504619, 0.8621963423045577, 0.5390122745453851, 0.37449474239697045, 0.5525769027615686, 0.8848042997099522, 0.8905749380305412, 0.8406986190074381, 0.6604559269083765, 0.8384826228746506, 0.41201766866844314, 0.5996907637008747, 0.24207793324137683, 0.9864574516309869, 0.4771049268352129, 0.351298520637058, 0.990042551697772, 0.41372062052490555, 0.9890968920428861, 0.818967741988815, 0.8688697491818295, 0.4460475464342293, 0.49468548290253234, 0.021111923789432385, 0.8957271674991043, 0.9023449444006343, 0.43583326593872795, 0.9591173120943737, 0.06554585214233188, 0.6008339437900977, 0.10471328201113816, 0.06930238886918116, 0.3745267502917524, 0.5705170622943766, 0.49922536719908084, 0.8678820852651066, 0.05054059215846396, 0.7982519346444148, 0.9987661853059275, 0.23903290746632289, 0.2612936096875451, 0.3139194362088066, 0.6351912553597396, 0.18827110087180798, 0.41002333607220687, 0.5462338552067418, 0.027454134375036854, 0.07505662687066506, 0.9076654157739588, 0.11692165654050801, 0.45472308195675504, 0.3865493944544197, 0.7073334385090477, 0.2312073020509352, 0.7465637533904391, 0.45415910132224857, 0.2630248938419316, 0.8370984485372642, 0.22607054385717218, 0.059031090008606735, 0.3297937554967767, 0.07593426715665919, 0.9631428502180879, 0.0984761727012674, 0.5772340556351078, 0.0013607064161258453, 0.8748181276960825, 0.6537980638523097, 0.12265918188402303, 0.02665452006546798, 0.05750915018653391, 0.09788486057927748, 0.55835156465862, 0.10038868504808274, 0.7256799439874154, 0.3550496573948859, 0.6671176980736541, 0.20417703937193143, 0.8934419378362767, 0.7040129328911435, 0.017025809822336035, 0.36561219994852734, 0.9807566821264159, 0.2774613255114625, 0.7312688421565419, 0.607410291989971, 0.06876939025228124, 0.1669728675145039, 0.05805256635345346, 0.2579641978649514, 0.4884262372572331, 0.13111704279739722, 0.47503619782715434, 0.23022664387284686, 0.2845542537757947, 0.018170931670274615, 0.21200349503105953, 0.5666967520851025, 0.8007477795963883, 0.5891255339898984, 0.03138602013180802, 0.43270223504689287, 0.33047234705988016, 0.14288357589343215, 0.4024898218344921, 0.8456345266643546, 0.45223127058274937, 0.18821250770544184, 0.9120777708116925, 0.4498628701220855, 0.6229560507810786, 0.9389624089405864, 0.3828389475601872, 0.1163536206104484, 0.6692637107741924, 0.3638873178595263, 0.6259358873018414, 0.025064033612397285, 0.7621302241720013, 0.2190310998806021, 0.9887438271460305, 0.14036185010393432, 0.04431861592108455, 0.934222681078984, 0.947594409039811, 0.6441352150470525, 0.21582343142500804, 0.8520695094320128, 0.40692611225076736, 0.3930964108571873, 0.8888207648384568, 0.8479663458809868, 0.47533638205472273, 0.6912575247518182, 0.10980729639927889, 0.857892135275648, 0.7572091059402491, 0.6382418440239849, 0.8294999031641002, 0.2590708950726339, 0.011059149721290074, 0.4047398096433453, 0.5838656679714007, 0.7335659609584414, 0.20392158941362537, 0.9236166231823659, 0.22254388256183777, 0.03225049936288649, 0.20763062995295045, 0.38756564192707355, 0.6441573704186941, 0.4415449988626776, 0.7064251166167167, 0.39362135792533803, 0.44270289999346446, 0.588814289480304, 0.2377524347634914, 0.29762706115224546, 0.9635246874330375, 0.14032569079378454, 0.36939180602839616, 0.25874462321770697, 0.5421729785286806, 0.3712077309282712, 0.867901751899474, 0.9950308799084363, 0.8062749122957732, 0.3246951520085094, 0.2958224035050825, 0.3711752364973945, 0.5577844190292217, 0.9892998090843174, 0.16301041750689327, 0.7823828796131465, 0.06727894920441768, 0.9592701422198193, 0.6149230875495091, 0.457369612597577, 0.9143006431521722, 0.17476254872088148, 0.07377012355441814, 0.17950738299925584, 0.6273565473649017, 0.3223994438801888, 0.10895566708065263, 0.30090381159416957, 0.8681768364787315, 0.4810713951172175, 0.3107622363620821, 0.4897070686086027, 0.2220845798427824, 0.9765783581609212, 0.2617248638202515, 0.83404201475754, 0.413079324738337, 0.3374725067648733, 0.8889249137871, 0.916332378210439, 0.4169685655193047, 0.07641509959916637, 0.2995860440370697, 0.09409200434619436, 0.3882696384573622, 0.9736993893788985, 0.5368742086759335, 0.7440573443484884, 0.7824650494438314, 0.08863969517281123, 0.3345010832789901, 0.055199226008399105, 0.1853883772507584, 0.8228417181680365, 0.1823079903403153, 0.7671233071602114, 0.5174813605671218, 0.41227511804128947, 0.3383578098226627, 0.5946293377434646, 0.3921031256333134, 0.7154761251163825, 0.281027410102728, 0.194984766332579, 0.6167887204030021, 0.1956184649039574, 0.16606661423024205, 0.25578700668538057, 0.31732347588640675, 0.6922662315100081, 0.8241093269249434, 0.748401813223825, 0.5071338360066738, 0.9081990693753956, 0.5333826149130942, 0.45801008105028185, 0.07398290595165136, 0.08229461541378547, 0.6685282054224587, 0.3099803674067503, 0.7316359590048434, 0.3163431309902499, 0.5674604102761296, 0.8103499681973911, 0.3991945360044977, 0.7474034709137262, 0.7957154219415825, 0.5118096689912025, 0.269301612557577, 0.2962192463260531, 0.47787557272062, 0.4069098347161271, 0.5416053969498604, 0.2155472535608649, 0.34455064606635943, 0.9130445910817048, 0.44400528787044746, 0.27060531075481886, 0.6866478415507532, 0.7480690130446908, 0.429731896632765, 0.6518041581895012, 0.43315141705131455, 0.1869252089558453, 0.5219181195624853, 0.7906903660058996, 0.46075236932139774, 0.502648118876321, 0.526152170906839, 0.5527509341168396, 0.13585461690209666, 0.9675269351843314, 0.04209238843891372, 0.9902108791328316, 0.3001883342428465, 0.6730839013531257, 0.379913903905707, 0.7331628435499012, 0.6870584493618127, 0.8461196206571002, 0.2523869855115247, 0.7126352518648233, 0.599108022724033, 0.31770245678179143, 0.5413848510853867, 0.535321199414746, 0.8362858222755919, 0.35380612954491075, 0.6448612350277074, 0.36357080427934174, 0.05657833225104769, 0.11196775035763484, 0.8093057451110226, 0.48620984005529144, 0.9654675018010537, 0.3510510276336867, 0.013120124417528523, 0.4199672003857353, 0.34558533697156624, 0.3751119433277428, 0.8584367542310731, 0.7098801377538474, 0.09016051035425998, 0.7622913525919119, 0.4663827134789915, 0.6594019885212139, 0.32525635836592026, 0.19736100475842688, 0.7664700326814563, 0.4669449373542899, 0.20764881166584503, 0.8196146012170236, 0.8192488935141871, 0.42518306427093355, 0.8946323506062491, 0.9779884183005031, 0.8436116959046754, 0.9952913700970808, 0.6840956345455503, 0.8394860938968526, 0.44055400847037574, 0.08469923679696645, 0.8119259555942344, 0.31151283314097344, 0.3410210067739109, 0.07817163761105039, 0.13596355234348478, 0.7398983796211434, 0.8681551916056611, 0.7202479290473541, 0.9391055440220115, 0.23233963613237474, 0.8488293386743232, 0.33416056811201145, 0.5535052039370567, 0.7706400556194728, 0.051459304279475204, 0.8250622244775577, 0.5850589289892036, 0.6062013948008361, 0.38868770490155846, 0.7524180593129844, 0.8216927544630992, 0.33347885938238375, 0.4534847993818497, 0.7069995880000793, 0.8865219029224396, 0.8399750762904121, 0.17750588224192654, 0.9406066136671065, 0.4084617912441907, 0.6922203104043736, 0.7063532320585362, 0.700576007564081, 0.6450633002981159, 0.6131473137397785, 0.8571209847693275, 0.5341820691838701, 0.0058803778718586885, 0.6644500142038592, 0.794412799691393, 0.40425975874114206, 0.5634624360966073, 0.16888617100875747, 0.058815303007953346, 0.0167012092628549, 0.4603714063042662, 0.9868232119081257, 0.2940218609265278, 0.012748330432597155, 0.16545210525833387, 0.1292563059712175, 0.5222050070764201, 0.6851177325189314, 0.21606485702615041, 0.9779973730722472, 0.16301915881834594, 0.04055759137391324, 0.8453606605729519, 0.07341158887919985, 0.4952632247199117, 0.375653467474931, 0.20911313653809727, 0.23635020204848434, 0.9474811815174262, 0.2260817937475138, 0.6241891893956887, 0.208512400617044, 0.9435972523445273, 0.12515437976234622, 0.26425579353672823, 0.47397980445648347, 0.5486429651893192, 0.9348652778183699, 0.6559312401360045, 0.6886580173199316, 0.953830573088062, 0.9018138588638168, 0.8552179782776664, 0.2784608558162357, 0.35384271973147663, 0.7922824253170808, 0.43956250017246834, 0.4973661168267772, 0.7883596195220487, 0.04808617183144459, 0.07594408891972748, 0.7948460036979311, 0.982340683027249, 0.45288438263986364, 0.34110165658023905, 0.6306895472650886, 0.5390011785622534, 0.07787432357609214, 0.580048184665669, 0.15356629372522224, 0.5958629671764514, 0.346521302383082, 0.5803744866292674, 0.42636778807024256, 0.3666867716466994, 0.11944327114260811, 0.48502047142543614, 0.32246653830881833, 0.7515387200199848, 0.7679676541403326, 0.4159564548028344, 0.6675866201775781, 0.11798171674273228, 0.36869694729941926, 0.9388972796908245, 0.5303381798060182, 0.6041813412432763, 0.9048827838682371, 0.44716419105772354, 0.6330577900370503, 0.35438169584711876, 0.8554437474602914, 0.5516624082457862, 0.9652801051066646, 0.09223867186093371, 0.6033613321114721, 0.5250009139438084, 0.041282838050699655, 0.8866998558448466, 0.7291193138128896, 0.17108539011799495, 0.842720299218056, 0.1317438289694698, 0.42785264152569014, 0.19766332219515204, 0.3347130146842937, 0.0523618510250321, 0.1313383502789346, 0.9892444586779288, 0.41431960141606416, 0.4803341964538641, 0.023346317348133083, 0.4680361765681704, 0.5119825730144232, 0.6910136904838087, 0.33787707766267394, 0.29131759275442926, 0.5135104623523896, 0.8377599438900277, 0.6805659040185488, 0.8102136946936823, 0.5065245490516498, 0.6582548151672016, 0.49848515244922664, 0.31696726598073033, 0.737514997081492, 0.28318433381540187, 0.00803389806057897, 0.4138977798730584, 0.610895944076291, 0.9130348326528986, 0.5120618293400638, 0.2404062799065142, 0.8357625737556241, 0.6540502321585223, 0.06451897862924982, 0.11344946845041937, 0.3283517391127241, 0.7065131931633493, 0.687040053390274, 0.8266748054938021, 0.6085262348144655, 0.4268208399728516, 0.37755019386216837, 0.4942670162573025, 0.8780099796033569, 0.8855895515755113, 0.9051681747135574, 0.7904339247570116, 0.013546699601466039, 0.6414800700249038, 0.8817037935151909, 0.7706888984384052, 0.5160895772028271, 0.34386194754627597, 0.06096697251493233, 0.16180166659474116, 0.029548457389190985, 0.8403782929159157, 0.26081708092171363, 0.4004420725364568, 0.8801751507139328, 0.12522126805407707, 0.942421689476305, 0.2700628552588672, 0.18643203686145826, 0.3967394820269903, 0.10069126943830353, 0.11087740663750378, 0.040652492618246105, 0.929239516301406, 0.45438551571539665, 0.5474762515528452, 0.6960866601115979, 0.45895179101495065, 0.5133423584088511, 0.8206009262647651, 0.05869909793126593, 0.9122431584612221, 0.952838406417952, 0.9744869904971477, 0.30687200432312733, 0.3265487988910918, 0.8809700960357141, 0.035937486621767545, 0.7188918693397808, 0.343067992036702, 0.5008975473382817, 0.07777272416287406, 0.8390424333629487, 0.39864275405618166, 0.8089600408504874, 0.0654972573043412, 0.044081155232225555, 0.8367441006099647, 0.17759132880888273, 0.1302887985846123, 0.33477279058332055, 0.2873975436786744, 0.08821027842556373, 0.30233165318427024, 0.043653526140504106, 0.2913643086401322, 0.1065939465519894, 0.1524172943218366, 0.9049032228668182, 0.8463120030522793, 0.4082830327248508, 0.9629039695768252, 0.3270768384046735, 0.0765931398680717, 0.5267436347036792, 0.7836362411395769, 0.18091365462485687, 0.9145556878034715, 0.004006746611880607, 0.9183719760656291, 0.7106607030261104, 0.26943531565355305, 0.8474475003186451, 0.6852978881603339, 0.4941353030967409, 0.6743763881342036, 0.2930950794307201, 0.8813742968367627, 0.2327853706642451, 0.7339942350286088, 0.6451055332819982, 0.703930933545812, 0.24618390270493062, 0.5385865549917079, 0.7859039771988406, 0.6160900471099529, 0.4283405672278753, 0.3577825641492509, 0.0015895076728791313, 0.36502007152276217, 0.9667668401193847, 0.45842522072892966, 0.5454324967479116, 0.36153106671086666, 0.42555297752262633, 0.3737777305414459, 0.35494052149241606, 0.4588844364396243, 0.41856111101950855, 0.2829757628745445, 0.8467628129057511, 0.3980540758391502, 0.4892905344098831, 0.6200972800401289, 0.512049281523072, 0.9249193887002594, 0.5268842639014495, 0.4545397945696307, 0.8254641726897066, 0.5800178035091421, 0.7455641499488088, 0.38031719741442094, 0.0687731286889447, 0.8490364818394709, 0.559435693117555, 0.6500437371916444, 0.8983802325424595, 0.7476464102358931, 0.2487975524007403, 0.31672603623067663, 0.07949072636532617, 0.6444697143068125, 0.8118787400087798, 0.9440040141118206, 0.2702619002293445, 0.6535742664975731, 0.0014783188604338138, 0.7818162808703761, 0.46576275553193347, 0.2564976366593378, 0.1916654162217033, 0.7060351129676752, 0.209159936541767, 0.6131093366991893, 0.5250152143465825, 0.48326617886570555, 0.3660866512564832, 0.10029621420950363, 0.6784517741375405, 0.654592512751278, 0.44875976405399787, 0.27408762053850044, 0.9336362445337351, 0.6887943824216232, 0.9828256534094714, 0.6112678954840995, 0.19416792068713384, 0.2798191543081807, 0.7013779659782742, 0.18249050720418802, 0.08496523061226913, 0.5060926378928494, 0.6110746656232364, 0.24752713333407927, 0.0849471732536643, 0.3843944101649023, 0.7352705429578693, 0.07789903213592242, 0.4646279443479382, 0.5748250878539354, 0.4580488852754836, 0.24572858544008525, 0.014684349564147325, 0.29834004707024275, 0.9460708469366865, 0.5535641247991558, 0.6486001818104337, 0.2830502585637594, 0.619715467585692, 0.0009417411393706221, 0.16381458310590014, 0.8071752151838989, 0.2249226250790758, 0.034305172305371445, 0.48822446018191834, 0.28616222162669813, 0.5958277411338004, 0.3519206438633875, 0.6331271884754796, 0.291604747250665, 0.15597750841302027, 0.4392175958227087, 0.7474206819273106, 0.12185115194191432, 0.7430589333096912, 0.971392809708495, 0.5107842027635826, 0.731830472218049, 0.33359544883660275, 0.11956491947162284, 0.9802244625430391, 0.38991138828666205, 0.8196990503001425, 0.8623979294193109, 0.91848209409769, 0.9011883106558546, 0.043326752527924506, 0.11887408226087992, 0.5455045735026622, 0.007246223375729222, 0.8056947478284202, 0.120366914864933, 0.7281539440083294, 0.8874199442294253, 0.7352256153471515, 0.8767434721297589, 0.6685485598666708, 0.7265020050317383, 0.8202903147361144, 0.7612960262959647, 0.5086910849444997, 0.17622502522453376, 0.07888270339593473, 0.3605198168535736, 0.4166202194497619, 0.6249212488165116, 0.9682765366377061, 0.46686580423282764, 0.3527618423115191, 0.07787473306825232, 0.8891844776901036, 0.012069608859829883, 0.9645800984524773, 0.7389394311612227, 0.6859249869323973, 0.15185481736475892, 0.39627026089356354, 0.057671879067501264, 0.5968679301631651, 0.11096223190582444, 0.4131701341227142, 0.535719415618598, 0.17321826460263245, 0.11601079787678759, 0.7251979631430853, 0.4622574054692107, 0.3287339914208064, 0.8958623858997814, 0.9874959541040279, 0.09571629126366987, 0.8746356584284969, 0.8485329680593747, 0.4145330544407744, 0.02872916409931303, 0.9913984468215762, 0.9730640915736487, 0.6308958385259315, 0.18068315005150792, 0.4394759523044861, 0.1118640753758644, 0.7975169521616615, 0.5112487268264662, 0.15722361045616184, 0.6655207140816393, 0.3647772938026247, 0.7231512532503297, 0.002982990379004069, 0.15706171596508023, 0.4410847198636487, 0.9645993189922608, 0.9097808039403796, 0.5384554768110087, 0.8775781569589112, 0.8597653477410847, 0.406038247761367, 0.11303969430430072, 0.44332551714059276, 0.6428448792245803, 0.686901311160386, 0.37983513621851317, 0.40290771916620904, 0.5971610959045646, 0.8170339610980175, 0.19736067144761882, 0.03388158905731875, 0.05970934957839924, 0.7149989257369426, 0.44840485832877375, 0.7280713331268961, 0.9165099001545881, 0.9232045158121244, 0.16188948242946866, 0.2566072369617127, 0.0075372114056487804, 0.2029533798036377, 0.5003581213036217, 0.7531445896106366, 0.016019505739427564, 0.939885984813322, 0.3608564745380278, 0.4430179944007486, 0.023006837875214403, 0.33501604124719, 0.931932888873902, 0.6123343251890904, 0.44407071879201254, 0.5054866934002188, 0.6537831293371176, 0.6503693937855024, 0.5661165976191511, 0.6386132939899373, 0.021589775039011272, 0.7641411532583455, 0.41931147532395496, 0.06215004058913165, 0.3016636390551578, 0.42393735764676754, 0.33376176802771795, 0.9573017808229415, 0.8596500060198602, 0.000516092794112466, 0.811155062488219, 0.7868901278665339, 0.5767458515044112, 0.6473509626924485, 0.211938783710246, 0.5714324107085159, 0.9152735432269322, 0.22380060588021466, 0.7893434162175089, 0.7009804571233116, 0.46992251962238063, 0.8263840145164423, 0.8216173281224644, 0.8977596284942568, 0.5043771092719262, 0.6212401390279609, 0.027609951880537276, 0.8874791834151715, 0.30360168181248837, 0.13509557480846368, 0.9733852404766107], 'mean': 0.49663277663286215, 'median': 0.494974353811222, 'mode': 0, 'variance': 0.08467715515167604, 'std_dev': 0.2909933936564128, 'range': 0.9982500925118151}\n",
            "\n",
            "Simulated Exponential Distribution data:\n"
          ]
        },
        {
          "output_type": "execute_result",
          "data": {
            "text/plain": [
              "{'data': [1.6409206990808831,\n",
              "  4.550173466264562,\n",
              "  1.3680974711290967,\n",
              "  5.254101339972457,\n",
              "  1.4659792046825713,\n",
              "  0.6238944519913024,\n",
              "  2.7989979082971366,\n",
              "  1.6794376541048945,\n",
              "  1.0733285642443893,\n",
              "  2.4563173185332814,\n",
              "  0.5112989588802609,\n",
              "  1.585449849707774,\n",
              "  0.5673544167142609,\n",
              "  2.5753779587210603,\n",
              "  0.43806848476288546,\n",
              "  0.3367891876549846,\n",
              "  0.11662873642751448,\n",
              "  0.6709395367950347,\n",
              "  3.4881344330096686,\n",
              "  1.306747134189386,\n",
              "  2.1392917128186033,\n",
              "  0.8426971618474841,\n",
              "  2.4649526417654872,\n",
              "  1.449793197988709,\n",
              "  0.052120411911594805,\n",
              "  4.866032156173753,\n",
              "  0.3372073666595344,\n",
              "  0.22008306406951045,\n",
              "  1.1689552364479,\n",
              "  3.5670733836657753,\n",
              "  1.5383055923401276,\n",
              "  4.21837574515022,\n",
              "  0.08605326718897133,\n",
              "  4.815302045920256,\n",
              "  1.215404715046769,\n",
              "  0.7767796751672951,\n",
              "  1.154120250953046,\n",
              "  2.558785355068966,\n",
              "  0.16201110920487263,\n",
              "  3.429603119906025,\n",
              "  2.482834688532858,\n",
              "  1.651287146110061,\n",
              "  0.6105052185569585,\n",
              "  0.17640491533412464,\n",
              "  1.4526133281530156,\n",
              "  2.6985474990620504,\n",
              "  1.0073528914370282,\n",
              "  2.6531167261398005,\n",
              "  8.152920122934553,\n",
              "  0.7584222811055523,\n",
              "  0.5248913863320894,\n",
              "  7.6975437360291,\n",
              "  0.11257514977737472,\n",
              "  1.0155664440102539,\n",
              "  4.85656151855918,\n",
              "  1.980135542531434,\n",
              "  4.148229885366926,\n",
              "  0.09094197303901022,\n",
              "  3.0930322683493143,\n",
              "  9.142629976827664,\n",
              "  0.5318362161188108,\n",
              "  4.631220608515534,\n",
              "  4.089320286852442,\n",
              "  4.744874392062378,\n",
              "  0.5056902603008426,\n",
              "  0.47730863386191547,\n",
              "  0.24754200564473205,\n",
              "  3.0266057622655147,\n",
              "  5.699299294602391,\n",
              "  4.3108275962381475,\n",
              "  2.089910771792032,\n",
              "  0.5739312385833087,\n",
              "  5.780174357160673,\n",
              "  2.3908394653987943,\n",
              "  2.975322227207684,\n",
              "  0.07361270125533718,\n",
              "  1.4105628962975836,\n",
              "  0.8522336733345361,\n",
              "  0.12761042728610553,\n",
              "  0.04524343874600839,\n",
              "  1.8067947081438793,\n",
              "  4.071811290380896,\n",
              "  2.336378080426779,\n",
              "  1.2567563269250621,\n",
              "  3.018357237572856,\n",
              "  3.278646229373643,\n",
              "  1.0582805252035201,\n",
              "  2.561966393339581,\n",
              "  0.45722385686699657,\n",
              "  0.38218980257383567,\n",
              "  0.6784622615292318,\n",
              "  1.7815978198554032,\n",
              "  7.498771205565419,\n",
              "  3.4165665569664347,\n",
              "  2.0275719411965847,\n",
              "  3.7931807027054822,\n",
              "  4.0648104424689775,\n",
              "  1.9122277785101416,\n",
              "  4.6159274283327685,\n",
              "  1.0355611488158145,\n",
              "  0.4575671282310418,\n",
              "  1.217177335767031,\n",
              "  0.9124083833995648,\n",
              "  0.45539992641523575,\n",
              "  1.7803969427100466,\n",
              "  2.2572212903407745,\n",
              "  4.125232053217268,\n",
              "  1.5761116202120737,\n",
              "  0.1555489692573427,\n",
              "  0.16576479099532354,\n",
              "  0.25033624224107054,\n",
              "  6.8859382796711675,\n",
              "  1.2356327534624223,\n",
              "  2.3751500447569023,\n",
              "  1.1069638521969332,\n",
              "  0.05421423994679342,\n",
              "  10.27113295409697,\n",
              "  3.285070792040188,\n",
              "  0.952559327161009,\n",
              "  1.1652004368791393,\n",
              "  0.3362827713163693,\n",
              "  1.0189078568005594,\n",
              "  0.5270452062748123,\n",
              "  1.5992199293538734,\n",
              "  3.0878037847130644,\n",
              "  0.5111165270631773,\n",
              "  0.09546023956787589,\n",
              "  0.8802918764659877,\n",
              "  1.3155370663398338,\n",
              "  0.9494953241207568,\n",
              "  5.178702611888794,\n",
              "  1.1259559070686143,\n",
              "  1.6618551392438128,\n",
              "  1.197745013541678,\n",
              "  4.802514479724841,\n",
              "  0.1382505105682371,\n",
              "  1.6457329305726356,\n",
              "  2.6387915221574914,\n",
              "  0.6269071328097175,\n",
              "  2.9463806006321422,\n",
              "  2.6912490407687537,\n",
              "  2.240617459314093,\n",
              "  0.8177537805427659,\n",
              "  0.8137340179764225,\n",
              "  0.023856055379743602,\n",
              "  2.002551129102454,\n",
              "  4.03837804813591,\n",
              "  4.008550351217998,\n",
              "  0.12730384892135657,\n",
              "  0.4713458573611479,\n",
              "  0.9890886284588571,\n",
              "  0.7298851389494543,\n",
              "  4.0677645823674204,\n",
              "  0.17123193521182564,\n",
              "  0.8540551800152502,\n",
              "  2.2199712706899275,\n",
              "  0.030876866381832208,\n",
              "  0.3749946024640066,\n",
              "  6.0659081053890995,\n",
              "  0.8264931347241723,\n",
              "  0.440830200596526,\n",
              "  1.7059905354611977,\n",
              "  7.836002992897875,\n",
              "  1.3745067012001473,\n",
              "  3.2949828290979815,\n",
              "  1.0275735729247866,\n",
              "  0.691684468169382,\n",
              "  0.5871928958833939,\n",
              "  3.93197090766913,\n",
              "  1.8540063978446635,\n",
              "  0.13296390347606182,\n",
              "  0.6116995026264165,\n",
              "  2.9394719192310026,\n",
              "  2.396860777668131,\n",
              "  0.21616378373139675,\n",
              "  0.39939511192550425,\n",
              "  4.299535149409911,\n",
              "  4.9333314036199,\n",
              "  1.2316497096281964,\n",
              "  0.4063670010287108,\n",
              "  0.16202301756204718,\n",
              "  0.752980216495811,\n",
              "  2.7723012925215675,\n",
              "  1.7809472628566583,\n",
              "  0.2994964068503142,\n",
              "  2.86270753807412,\n",
              "  0.43328403328220294,\n",
              "  0.660358809527978,\n",
              "  2.372127131043535,\n",
              "  1.8664348291208002,\n",
              "  2.5958240821190204,\n",
              "  1.3752000365508226,\n",
              "  1.6834731821597175,\n",
              "  6.672514571850819,\n",
              "  0.8772629613766092,\n",
              "  2.8288171244943436,\n",
              "  0.03252174082597988,\n",
              "  0.279315885297093,\n",
              "  0.25690121904091046,\n",
              "  0.2309100098508305,\n",
              "  5.601719602865997,\n",
              "  1.0589374372541063,\n",
              "  1.5748397962558254,\n",
              "  0.171916992195933,\n",
              "  8.24173277627412,\n",
              "  0.6354642756991512,\n",
              "  1.3073562952484756,\n",
              "  0.10150302993059526,\n",
              "  6.373905967706436,\n",
              "  0.25137234668720687,\n",
              "  5.746963135091052,\n",
              "  0.15785515599008054,\n",
              "  1.1925438831576194,\n",
              "  3.384843985379749,\n",
              "  2.817260994463558,\n",
              "  1.171558343998612,\n",
              "  1.3100891856570993,\n",
              "  0.5029515098028621,\n",
              "  1.392013066769979,\n",
              "  1.3731271527205906,\n",
              "  0.9589012110915511,\n",
              "  0.24958590205168604,\n",
              "  0.9278502259216396,\n",
              "  0.12314673292323891,\n",
              "  0.9586126413384793,\n",
              "  8.238903971403344,\n",
              "  3.1928039308223983,\n",
              "  0.2856159099488008,\n",
              "  0.8909668901707075,\n",
              "  2.907194333709783,\n",
              "  1.6532289230571144,\n",
              "  3.4550094529981594,\n",
              "  4.267166131523458,\n",
              "  0.10506381268205461,\n",
              "  1.2608685094307364,\n",
              "  0.049441645108006985,\n",
              "  0.9515304653020961,\n",
              "  9.032712209456973,\n",
              "  0.16037850282100666,\n",
              "  2.62810366853375,\n",
              "  5.539239807793995,\n",
              "  5.751408766626658,\n",
              "  1.0458879525590776,\n",
              "  3.6520308197220976,\n",
              "  2.7122229147702495,\n",
              "  1.0304764481949027,\n",
              "  2.0253817914190817,\n",
              "  4.725027286554164,\n",
              "  0.35956413943406323,\n",
              "  0.8589799199343892,\n",
              "  0.39960384557221745,\n",
              "  1.4604944973732934,\n",
              "  2.8645277738077124,\n",
              "  4.827796859062711,\n",
              "  1.8419778519761794,\n",
              "  0.22587150975018813,\n",
              "  1.2289847941017458,\n",
              "  0.32650213156710944,\n",
              "  1.1192218841978456,\n",
              "  0.5677756826075079,\n",
              "  0.45715661463736573,\n",
              "  1.0711441530499088,\n",
              "  2.5271490431334183,\n",
              "  0.037567555042051406,\n",
              "  3.8907908644662994,\n",
              "  0.1407753677098258,\n",
              "  1.9948574186706507,\n",
              "  1.4273765547509687,\n",
              "  6.245249786592301,\n",
              "  0.6927127021146313,\n",
              "  3.112683617860218,\n",
              "  8.498337248519704,\n",
              "  4.680886006326395,\n",
              "  0.5158717682632141,\n",
              "  4.76479038742217,\n",
              "  0.833261746067003,\n",
              "  0.04209984568288539,\n",
              "  0.93807732265174,\n",
              "  4.7510904992298455,\n",
              "  5.877531710287388,\n",
              "  2.177568432046805,\n",
              "  4.328231359381445,\n",
              "  0.21364257154488359,\n",
              "  3.542471952921981,\n",
              "  1.2134681985318212,\n",
              "  0.8824522694115757,\n",
              "  5.686026910133532,\n",
              "  1.4199883765524093,\n",
              "  0.14003695276686834,\n",
              "  6.139732639858585,\n",
              "  1.232767970757446,\n",
              "  3.6206853934838716,\n",
              "  0.5255278580677806,\n",
              "  0.4392129986654655,\n",
              "  2.0704734320443263,\n",
              "  1.2570018538075842,\n",
              "  4.252462633290601,\n",
              "  6.856614478105179,\n",
              "  1.5232633741988437,\n",
              "  0.15670934235106496,\n",
              "  0.9065061920731994,\n",
              "  8.064276588609472,\n",
              "  1.0060273090861909,\n",
              "  0.23253601260875578,\n",
              "  0.5000407744673554,\n",
              "  0.8006069248660154,\n",
              "  2.093730299215457,\n",
              "  1.023306417758873,\n",
              "  0.8615449180543977,\n",
              "  2.6591924209835063,\n",
              "  0.6264591642938555,\n",
              "  9.43743024049963,\n",
              "  1.7389552142752482,\n",
              "  0.8193557472662933,\n",
              "  0.521388914217262,\n",
              "  0.2787434425894829,\n",
              "  1.6208074898428124,\n",
              "  0.9989834366375191,\n",
              "  1.1468804560194905,\n",
              "  1.3035672727588299,\n",
              "  2.2378617035316886,\n",
              "  2.0088037899749933,\n",
              "  1.1726297694667258,\n",
              "  0.17629742328835663,\n",
              "  0.11271724179497106,\n",
              "  4.232890954369854,\n",
              "  1.4136252141756953,\n",
              "  0.5836634649788034,\n",
              "  8.320249555113612,\n",
              "  1.6022394714948527,\n",
              "  4.565313852477705,\n",
              "  1.4745298265477638,\n",
              "  0.6986589768640717,\n",
              "  3.424804605464498,\n",
              "  1.18027218131682,\n",
              "  0.40040852578237746,\n",
              "  0.4047657410021553,\n",
              "  1.0202986296843852,\n",
              "  0.01431949268241075,\n",
              "  1.5719730907786928,\n",
              "  0.15632718899312725,\n",
              "  1.3821034925370241,\n",
              "  2.087849369117308,\n",
              "  0.6667632816912454,\n",
              "  4.474148745560128,\n",
              "  1.773804912461096,\n",
              "  0.7627781290897616,\n",
              "  5.218504963207839,\n",
              "  0.3047824459139793,\n",
              "  0.1078428709062595,\n",
              "  0.0858106133694055,\n",
              "  2.347288507846344,\n",
              "  1.8607267525637472,\n",
              "  0.18600223124476697,\n",
              "  0.7788957786384829,\n",
              "  0.14338870875893459,\n",
              "  0.2534033402886152,\n",
              "  8.130184925161304,\n",
              "  0.03105030070531137,\n",
              "  2.9375295263968466,\n",
              "  1.7132003611853837,\n",
              "  0.5034177003992969,\n",
              "  1.9513072912791944,\n",
              "  0.6269723222705261,\n",
              "  2.5765868293584,\n",
              "  5.701676967401759,\n",
              "  2.0471167377010135,\n",
              "  0.3581031481514722,\n",
              "  1.4389772098766118,\n",
              "  1.070792992328749,\n",
              "  1.610773507629187,\n",
              "  0.05632628591838967,\n",
              "  1.014010411674839,\n",
              "  2.469477639084538,\n",
              "  1.3974171732714384,\n",
              "  0.8317949209371152,\n",
              "  0.1009666577528975,\n",
              "  1.7884659283417619,\n",
              "  1.813727578401066,\n",
              "  1.174390444673785,\n",
              "  2.0557352213344022,\n",
              "  1.179695157501734,\n",
              "  1.9860705836695722,\n",
              "  0.16516886235117284,\n",
              "  1.6521325402831428,\n",
              "  0.980643990571421,\n",
              "  2.9281420356749894,\n",
              "  3.42388416483342,\n",
              "  0.5675897423781422,\n",
              "  0.6592255162980329,\n",
              "  2.1635455629005085,\n",
              "  0.0671734220048941,\n",
              "  2.381015830478352,\n",
              "  1.8551936076380846,\n",
              "  0.8919508722026542,\n",
              "  3.6552143502029124,\n",
              "  0.05631038828352762,\n",
              "  2.4308208603976644,\n",
              "  2.2846650912029296,\n",
              "  2.3354190930867467,\n",
              "  3.3056326363201296,\n",
              "  1.4554416779959651,\n",
              "  0.6294522352152105,\n",
              "  1.523008480609662,\n",
              "  0.15941825455205844,\n",
              "  0.24529175272253348,\n",
              "  5.154960070803963,\n",
              "  1.5754104293584268,\n",
              "  1.136137995383486,\n",
              "  1.0097935632508332,\n",
              "  0.5340207181317161,\n",
              "  0.059989016050608,\n",
              "  0.15428514857576592,\n",
              "  3.199885548240327,\n",
              "  0.31352702033436086,\n",
              "  2.82563122061999,\n",
              "  0.9048459500172801,\n",
              "  1.8085250077047077,\n",
              "  0.2189879573369496,\n",
              "  1.7937784452931762,\n",
              "  0.5989866734494319,\n",
              "  2.8203820364075356,\n",
              "  0.5016509288554957,\n",
              "  3.223200213454871,\n",
              "  4.213187854555628,\n",
              "  0.11245211361735309,\n",
              "  1.1414486171577392,\n",
              "  1.2854061775999925,\n",
              "  3.1732022365278376,\n",
              "  1.3494673201714078,\n",
              "  1.2324888818564244,\n",
              "  6.839810447979872,\n",
              "  1.0687665747739208,\n",
              "  1.9661271494616868,\n",
              "  3.84571124686848,\n",
              "  1.0826274379905667,\n",
              "  0.8858330846454261,\n",
              "  3.3341241259118597,\n",
              "  3.299095400380958,\n",
              "  1.1293743834049148,\n",
              "  0.6606688960256678,\n",
              "  0.3452885928598643,\n",
              "  0.6174151540994166,\n",
              "  0.9711257593156903,\n",
              "  0.1290404746711717,\n",
              "  6.917898121585218,\n",
              "  1.5376002620085896,\n",
              "  1.0111991326631993,\n",
              "  0.3060836326379794,\n",
              "  1.4006805434079777,\n",
              "  0.21429676399278744,\n",
              "  4.170158831073047,\n",
              "  1.7143367414496598,\n",
              "  3.3736713230323003,\n",
              "  3.930953075373319,\n",
              "  0.09793645517037193,\n",
              "  2.1468482610605872,\n",
              "  2.5969966833929754,\n",
              "  0.08530146315903143,\n",
              "  0.2773125791268212,\n",
              "  1.8058104286892414,\n",
              "  1.4223202643898785,\n",
              "  1.67907485608677,\n",
              "  0.23437089411125278,\n",
              "  1.241881309195477,\n",
              "  0.19271061667665854,\n",
              "  4.435868384472577,\n",
              "  0.769417439653143,\n",
              "  0.03635206601830765,\n",
              "  2.1135037202245237,\n",
              "  0.42379170866540233,\n",
              "  0.48406967620452795,\n",
              "  0.5916113546667571,\n",
              "  5.668027752370103,\n",
              "  0.3067085686130518,\n",
              "  2.6263057764627615,\n",
              "  1.2976485162005051,\n",
              "  0.9150527141431526,\n",
              "  0.7991399344837905,\n",
              "  2.1725933497144756,\n",
              "  0.16528562370253,\n",
              "  1.8806643778306178,\n",
              "  0.7848165959293016,\n",
              "  6.445241259524643,\n",
              "  0.19967461507592,\n",
              "  1.6476571431021791,\n",
              "  0.039595481757648834,\n",
              "  1.4871294828635429,\n",
              "  1.7094023301331316,\n",
              "  0.3901182650295308,\n",
              "  1.8715640908095268,\n",
              "  0.4649173321504667,\n",
              "  1.7713533739407297,\n",
              "  1.7710276791363915,\n",
              "  4.357592071175897,\n",
              "  1.6281282092410652,\n",
              "  2.200399120408341,\n",
              "  0.009139940241390743,\n",
              "  0.016294501654233618,\n",
              "  0.31971696922459625,\n",
              "  0.6540586976148292,\n",
              "  1.586982535350058,\n",
              "  0.22565522987381859,\n",
              "  0.9710187368340748,\n",
              "  2.0386422396485275,\n",
              "  1.5709200950820281,\n",
              "  0.42801875672673007,\n",
              "  0.19423755863221437,\n",
              "  0.3218594059371021,\n",
              "  3.778809000649637,\n",
              "  4.237979846276321,\n",
              "  0.631128050600415,\n",
              "  0.8717206070794808,\n",
              "  2.3298816783050023,\n",
              "  0.024317825663108996,\n",
              "  0.8486075743399369,\n",
              "  0.9252913176743173,\n",
              "  1.9798726939581366,\n",
              "  2.848104757669199,\n",
              "  1.4573977276380194,\n",
              "  0.611740105535333,\n",
              "  1.356711803812711,\n",
              "  1.3895925059239969,\n",
              "  1.5613007491612787,\n",
              "  3.021676401143112,\n",
              "  3.549028576259992,\n",
              "  1.1856822688690205,\n",
              "  2.0244666293521227,\n",
              "  0.1369492260126895,\n",
              "  5.0959776652021,\n",
              "  0.3452131117113668,\n",
              "  0.2834287414559089,\n",
              "  3.7114754632292684,\n",
              "  3.3023844567312244,\n",
              "  0.40324001319312486,\n",
              "  2.4087915149173726,\n",
              "  3.126086888348847,\n",
              "  0.2674034484153519,\n",
              "  0.24862040304847535,\n",
              "  0.41800720989042534,\n",
              "  0.45332324171627886,\n",
              "  4.40085601887745,\n",
              "  0.7374152301133834,\n",
              "  1.5960929635190784,\n",
              "  3.590045835980273,\n",
              "  2.3393242823122193,\n",
              "  0.4966292789661308,\n",
              "  5.354197453982933,\n",
              "  1.0790928710586607,\n",
              "  2.8894155368137966,\n",
              "  0.7223149677122731,\n",
              "  1.482418339442426,\n",
              "  0.5903825823247282,\n",
              "  1.0180981043633406,\n",
              "  2.992744684320535,\n",
              "  0.8398810309934469,\n",
              "  1.6221011252607513,\n",
              "  2.826355306674449,\n",
              "  2.964648550886023,\n",
              "  2.205657365277386,\n",
              "  0.5957080093500585,\n",
              "  1.450397527640524,\n",
              "  1.6527902336269131,\n",
              "  0.3985502338306678,\n",
              "  0.0036976453627774204,\n",
              "  0.6184596972780302,\n",
              "  1.2074641797335173,\n",
              "  1.2364673919403009,\n",
              "  0.18392261781908992,\n",
              "  2.9482138672740192,\n",
              "  2.6713237937711436,\n",
              "  1.03715381138654,\n",
              "  1.7326992881008945,\n",
              "  4.627479051010805,\n",
              "  1.1387296142764654,\n",
              "  4.642432156340096,\n",
              "  1.169955512772163,\n",
              "  0.06871330825123023,\n",
              "  1.9313085816343,\n",
              "  3.2688387095173375,\n",
              "  0.7064866885426875,\n",
              "  0.5736067867589973,\n",
              "  2.7621181977239386,\n",
              "  0.34659659245018226,\n",
              "  0.9966682421971845,\n",
              "  0.3844181439285446,\n",
              "  0.6394374168752888,\n",
              "  2.6184733036527694,\n",
              "  0.11369632381519665,\n",
              "  0.4917058795496569,\n",
              "  2.116112415310296,\n",
              "  0.027660594801517398,\n",
              "  0.21638938086977927,\n",
              "  1.6220107449232488,\n",
              "  1.2134501279507157,\n",
              "  0.39381000358024554,\n",
              "  1.853705200317383,\n",
              "  8.266509841594383,\n",
              "  0.33490133182926746,\n",
              "  0.3421420476134884,\n",
              "  0.7723902080500852,\n",
              "  1.5069745989356516,\n",
              "  2.6239351705935903,\n",
              "  1.417870532732979,\n",
              "  1.4923758793524156,\n",
              "  0.4092129922323833,\n",
              "  1.1400905676287667,\n",
              "  2.50037584200789,\n",
              "  0.17453752865243308,\n",
              "  0.053000575319624224,\n",
              "  0.27290585121016026,\n",
              "  3.6459444480878145,\n",
              "  0.9037133658627187,\n",
              "  0.7138139507876653,\n",
              "  1.9200576662476,\n",
              "  1.2579488179815397,\n",
              "  2.5102430151878554,\n",
              "  1.5016997204170235,\n",
              "  1.0434742163384014,\n",
              "  3.674455383162888,\n",
              "  0.38950468946140165,\n",
              "  0.029229349102417316,\n",
              "  3.9644958401988286,\n",
              "  0.15611890253042107,\n",
              "  0.2565687312337173,\n",
              "  1.0277173231783239,\n",
              "  2.3459930556073756,\n",
              "  2.2545358780637796,\n",
              "  0.09302681447164661,\n",
              "  2.8196735445425736,\n",
              "  0.45418118875621016,\n",
              "  0.5725586076754338,\n",
              "  0.9638333560022115,\n",
              "  0.2349005204789445,\n",
              "  1.149435500386073,\n",
              "  0.7631014443524774,\n",
              "  0.7333055331000741,\n",
              "  1.7696526506041979,\n",
              "  9.68867926612165,\n",
              "  2.2666195914486575,\n",
              "  0.6090037186389212,\n",
              "  2.694692315455843,\n",
              "  1.4855027041996427,\n",
              "  0.5793018205083542,\n",
              "  7.052759491717014,\n",
              "  0.4153554670014723,\n",
              "  1.3788752119373062,\n",
              "  1.9933765237534298,\n",
              "  1.1492077523658242,\n",
              "  5.598531209309495,\n",
              "  1.3499137219843764,\n",
              "  2.8403631633829076,\n",
              "  0.8100789627981512,\n",
              "  2.7292354395502465,\n",
              "  0.654119636168804,\n",
              "  0.12041640977438849,\n",
              "  3.871631376135728,\n",
              "  0.06490882960424572,\n",
              "  0.7036231492237984,\n",
              "  1.1572740165288802,\n",
              "  0.15679035381792644,\n",
              "  1.947814169628511,\n",
              "  0.27338837826358714,\n",
              "  3.4434756261900215,\n",
              "  0.9826015619778454,\n",
              "  8.239933135023756,\n",
              "  0.28882121708096564,\n",
              "  1.3804888188040423,\n",
              "  4.0529036232637425,\n",
              "  6.375448505529468,\n",
              "  0.8568261698950794,\n",
              "  0.3715043409855686,\n",
              "  1.5577816292423359,\n",
              "  2.6851681597205808,\n",
              "  11.019433995261116,\n",
              "  2.10442719472499,\n",
              "  2.537859379482164,\n",
              "  0.6831997459055892,\n",
              "  2.299731425576505,\n",
              "  0.5602620861683173,\n",
              "  2.5196634032598864,\n",
              "  0.744344889402885,\n",
              "  0.5852299338600789,\n",
              "  0.5509729110538971,\n",
              "  0.8929452753240641,\n",
              "  0.11213157611491646,\n",
              "  2.7313232815603814,\n",
              "  3.6936423784467927,\n",
              "  6.379349020108278,\n",
              "  2.6062392400899257,\n",
              "  1.1217222072566844,\n",
              "  5.424465623078215,\n",
              "  0.7271198522165433,\n",
              "  5.176033020350796,\n",
              "  3.272646934261305,\n",
              "  1.170088644904967,\n",
              "  0.14535224255084475,\n",
              "  0.2467961463748587,\n",
              "  3.780824482953413,\n",
              "  3.8150980484278842,\n",
              "  2.6667398266657227,\n",
              "  2.261287401904982,\n",
              "  0.5244611342862887,\n",
              "  2.6386382968277236,\n",
              "  4.209200653917305,\n",
              "  0.22360919905929794,\n",
              "  0.44300511330099585,\n",
              "  0.5263233883502298,\n",
              "  1.45298997165543,\n",
              "  1.2433318122931993,\n",
              "  0.32457075683038333,\n",
              "  2.206341394811195,\n",
              "  0.36493468024295533,\n",
              "  8.055823388694922,\n",
              "  0.11094284989494965,\n",
              "  0.07036412697132167,\n",
              "  1.717906852966964,\n",
              "  0.8298763227308183,\n",
              "  0.4284817957172862,\n",
              "  0.5221553184557618,\n",
              "  0.014929450726704823,\n",
              "  0.2056997826467842,\n",
              "  2.3475499346784203,\n",
              "  1.589320601401362,\n",
              "  3.1644624725042867,\n",
              "  0.20589693079341062,\n",
              "  0.9733968363786025,\n",
              "  2.962301508459201,\n",
              "  0.16467374536749046,\n",
              "  5.981719261655082,\n",
              "  0.6677939622995321,\n",
              "  1.9485362835539088,\n",
              "  2.5692754180373485,\n",
              "  0.1411605506736194,\n",
              "  5.437043766817558,\n",
              "  8.67247777672526,\n",
              "  1.7173522930138299,\n",
              "  0.007913102794238071,\n",
              "  1.3335254783849817,\n",
              "  0.13735498072127772,\n",
              "  0.32622650939887315,\n",
              "  1.241691900657532,\n",
              "  1.7762493787825624,\n",
              "  3.037959896017803,\n",
              "  0.12929502286699524,\n",
              "  5.65808527853349,\n",
              "  1.159049342267392,\n",
              "  3.470798361350076,\n",
              "  2.549111252468168,\n",
              "  0.32335190728462276,\n",
              "  2.2760610690104524,\n",
              "  0.06853139170929416,\n",
              "  0.43462304646172006,\n",
              "  3.0361763320137225,\n",
              "  3.22136998881224,\n",
              "  0.1087861867729381,\n",
              "  0.47228635012297215,\n",
              "  3.087036551411271,\n",
              "  2.0783993592849734,\n",
              "  0.3258113935484739,\n",
              "  0.5183788558695787,\n",
              "  1.9554477086884179,\n",
              "  0.029445232954562927,\n",
              "  1.1626091125856384,\n",
              "  0.1728428915645987,\n",
              "  0.5777097011201744,\n",
              "  2.2332927479835045,\n",
              "  1.4646024887847562,\n",
              "  0.05135856904049322,\n",
              "  4.892460224274433,\n",
              "  4.707579215211126,\n",
              "  5.31559604155773,\n",
              "  3.758762029561694,\n",
              "  0.2467029799596688,\n",
              "  2.8230714571662983,\n",
              "  4.2078891634807025,\n",
              "  0.35467490267840324,\n",
              "  2.072462754234779,\n",
              "  1.2069828856540825,\n",
              "  2.6990716955518534,\n",
              "  6.378862997401374,\n",
              "  4.3866309127918255,\n",
              "  0.05557017019273031,\n",
              "  0.9078681664849766,\n",
              "  0.2859864994307087,\n",
              "  0.7210722897556311,\n",
              "  3.983417776173443,\n",
              "  1.5131471664443072,\n",
              "  0.7268098107101297,\n",
              "  0.5286185386677709,\n",
              "  0.12636815172239727,\n",
              "  3.2617560493559554,\n",
              "  2.2440802790175156,\n",
              "  0.5121680956168264,\n",
              "  0.11523439276405183,\n",
              "  2.02963344477871,\n",
              "  4.9831422018586755,\n",
              "  3.278765913407876,\n",
              "  0.6216880873268058,\n",
              "  0.5455787852768884,\n",
              "  0.8837499628970211,\n",
              "  1.4873733800941302,\n",
              "  3.226596265346914,\n",
              "  2.9406778919945133,\n",
              "  1.2173463370533768,\n",
              "  0.35231267873583594,\n",
              "  5.646065342018034,\n",
              "  0.0505625749591559,\n",
              "  5.306408028558962,\n",
              "  1.412188190748181,\n",
              "  1.5867144368720547,\n",
              "  0.7685666958521289,\n",
              "  0.0900026098413174,\n",
              "  0.06329126714388612,\n",
              "  0.05939100969469402,\n",
              "  1.1644105082963516,\n",
              "  5.356337784615338,\n",
              "  2.9962317415757496,\n",
              "  0.925869819915154,\n",
              "  0.11668902961910486,\n",
              "  0.5028589568658277,\n",
              "  0.5030410302447605,\n",
              "  1.540723249886969,\n",
              "  0.5124666011407147,\n",
              "  4.616758076078479,\n",
              "  1.0099075936238673,\n",
              "  1.9918899837081192,\n",
              "  0.9343870286557965,\n",
              "  0.31321843692092444,\n",
              "  4.884352146006728,\n",
              "  2.4355314722319177,\n",
              "  0.6353605854904503,\n",
              "  0.6322191051264222,\n",
              "  3.868625328727875,\n",
              "  1.3000105368604893,\n",
              "  1.1642536679976565,\n",
              "  1.7047328528344323,\n",
              "  0.16069447639595835,\n",
              "  5.338957145367408,\n",
              "  0.9107632069434128,\n",
              "  3.8567815510020926,\n",
              "  0.5807079771693745,\n",
              "  2.159790050033504,\n",
              "  1.3041091240815599,\n",
              "  4.191183823856278,\n",
              "  4.642679920723716,\n",
              "  0.031344630388213536,\n",
              "  0.09588635033776688,\n",
              "  3.2390052524400486,\n",
              "  12.453265208230063,\n",
              "  2.6732083230442547,\n",
              "  2.40651684932547,\n",
              "  2.3760923073930056,\n",
              "  0.31485643963623494,\n",
              "  4.437847724773298,\n",
              "  5.3086115596475825,\n",
              "  1.0092925859875597,\n",
              "  0.58438633208101,\n",
              "  1.125926717837164,\n",
              "  0.17811482816779947,\n",
              "  1.3289944665915943,\n",
              "  5.055078314926823,\n",
              "  6.228534032218697,\n",
              "  0.5473191131246764,\n",
              "  3.1572159108988407,\n",
              "  3.436046531371942,\n",
              "  0.635357819358761,\n",
              "  0.0508624567517714,\n",
              "  1.848525084937118,\n",
              "  6.487642640563386,\n",
              "  3.6974529168054153,\n",
              "  0.28272687458702933,\n",
              "  0.01799802911351174,\n",
              "  0.32394426325744136,\n",
              "  2.6608376958734263,\n",
              "  3.672392306664921,\n",
              "  4.319652750624093,\n",
              "  0.6147277740312694,\n",
              "  4.937444915829277,\n",
              "  0.015411332343464364,\n",
              "  2.3112386198062014,\n",
              "  0.5510586000849372,\n",
              "  1.2675193966009188,\n",
              "  2.8019464722065246,\n",
              "  4.250747047292496,\n",
              "  8.787607557382216,\n",
              "  3.6255440896469073,\n",
              "  1.5097577838460732,\n",
              "  0.9992720660359301,\n",
              "  0.554626507356566,\n",
              "  0.6991948702114309,\n",
              "  1.2253592508160547,\n",
              "  0.2171319762039241,\n",
              "  0.1040115374995875,\n",
              "  0.3442497369015923,\n",
              "  0.5224468860463026,\n",
              "  0.6481236848653601,\n",
              "  1.5514647915505704,\n",
              "  7.4393266574237025,\n",
              "  0.1178691157956109,\n",
              "  0.26177944457132285,\n",
              "  5.9578841218476475,\n",
              "  1.6678259330982679,\n",
              "  3.434693891086416,\n",
              "  0.6704936447913228,\n",
              "  7.550222524356054,\n",
              "  5.91466451680183,\n",
              "  4.408877822721833,\n",
              "  2.758563740414859,\n",
              "  0.9335322193422937,\n",
              "  9.988103096491091,\n",
              "  3.0692588963755973,\n",
              "  0.33002605340329155,\n",
              "  0.23266449677044085,\n",
              "  1.361669715857798,\n",
              "  1.8946191275174196,\n",
              "  6.692774848847575,\n",
              "  7.625655751269955,\n",
              "  0.931620771030129,\n",
              "  1.5231301082195754,\n",
              "  0.02189158181463866,\n",
              "  0.6571824344785908,\n",
              "  0.4998795588628352,\n",
              "  2.230027599382284,\n",
              "  1.4511427461986386,\n",
              "  2.8101591418487155,\n",
              "  1.778500528693406,\n",
              "  0.29455460948957407,\n",
              "  4.4118466321853305,\n",
              "  2.7815869361920673,\n",
              "  8.755334795921211,\n",
              "  2.6831309556284637,\n",
              "  1.1750285635282591,\n",
              "  0.11704252230595294,\n",
              "  3.5324617437193115,\n",
              "  3.292251646357476,\n",
              "  0.09555220840748531,\n",
              "  1.0314682223037064,\n",
              "  4.85211665355495,\n",
              "  2.4267018894157584,\n",
              "  3.339168977410747,\n",
              "  4.0038719640839275,\n",
              "  2.6554090374825,\n",
              "  4.721469024432764,\n",
              "  2.970830985689691,\n",
              "  1.470707111793572,\n",
              "  4.233716995167023,\n",
              "  0.3320602942278977,\n",
              "  1.9073303384175955,\n",
              "  3.231881431620278,\n",
              "  1.2698921728287633,\n",
              "  3.3636472732301455,\n",
              "  0.44257443060907503,\n",
              "  1.025751723904644,\n",
              "  0.7333974856009323,\n",
              "  1.7002052794457791,\n",
              "  1.847426033148637,\n",
              "  0.29426706979709466,\n",
              "  1.9944874819983083,\n",
              "  5.001069891894347,\n",
              "  0.0700759840280269,\n",
              "  1.891971200756601,\n",
              "  5.759336063613822,\n",
              "  0.810313620556448,\n",
              "  2.238854210894236,\n",
              "  5.455389560263527,\n",
              "  1.4798061573775876,\n",
              "  2.1453960806287693,\n",
              "  0.37947482872996646,\n",
              "  1.7318168359098431,\n",
              "  1.8744844606002975,\n",
              "  4.344703406462324,\n",
              "  0.341741658840406,\n",
              "  2.0849829685352574,\n",
              "  1.1333932167191,\n",
              "  1.48426252891056,\n",
              "  2.8159703121327277,\n",
              "  0.21039571855005368,\n",
              "  3.0224509180957524,\n",
              "  0.9859172681511719,\n",
              "  1.2589724194180247,\n",
              "  0.2576573739771934,\n",
              "  1.5963258021244102,\n",
              "  1.6254516572757434,\n",
              "  1.089053344050677,\n",
              "  0.5576918480364317,\n",
              "  1.169106800807426,\n",
              "  4.620605076724084,\n",
              "  0.1594046995050034,\n",
              "  1.5416528722090053,\n",
              "  6.446133350351288,\n",
              "  1.1370113990900919,\n",
              "  1.232335928926239,\n",
              "  12.895505453302663,\n",
              "  1.7710706453074245,\n",
              "  1.7686238372440213,\n",
              "  1.5301827330387867,\n",
              "  0.18221231281559686,\n",
              "  0.5055528160671433,\n",
              "  0.6117050328524314],\n",
              " 'mean': 1.9556743762615907,\n",
              " 'median': 1.3312599724882879,\n",
              " 'mode': 0,\n",
              " 'variance': 3.86460488908291,\n",
              " 'std_dev': 1.9658598345464282,\n",
              " 'range': 12.891807807939886}"
            ]
          },
          "metadata": {},
          "execution_count": 19
        }
      ]
    },
    {
      "cell_type": "markdown",
      "source": [
        "15. Use NumPy or pandas to summarize a dataset’s descriptive statistics."
      ],
      "metadata": {
        "id": "BTKNg8jbWigt"
      }
    },
    {
      "cell_type": "code",
      "source": [
        "import pandas as pd\n",
        "import numpy as np\n",
        "\n",
        "# Sample data (replace with your actual dataset)\n",
        "data = {'A': np.random.rand(100),\n",
        "        'B': np.random.randint(0, 10, 100),\n",
        "        'C': ['X', 'Y', 'Z'] * 33 + ['X']}  # Mixed data types\n",
        "\n",
        "df = pd.DataFrame(data)\n",
        "\n",
        "\n",
        "# Summarize descriptive statistics using pandas\n",
        "summary_stats = df.describe(include='all')\n",
        "print(summary_stats)\n",
        "\n",
        "# Alternatively, use NumPy for numerical columns\n",
        "numerical_data = df[['A', 'B']]\n",
        "np_summary = {\n",
        "    'mean': np.mean(numerical_data, axis=0),\n",
        "    'std': np.std(numerical_data, axis=0),\n",
        "    'min': np.min(numerical_data, axis=0),\n",
        "    'max': np.max(numerical_data, axis=0),\n",
        "    'median': np.median(numerical_data, axis=0),\n",
        "}\n",
        "print(\"\\nSummary using NumPy for Numerical Columns:\")\n",
        "np_summary\n"
      ],
      "metadata": {
        "colab": {
          "base_uri": "https://localhost:8080/"
        },
        "id": "LU2UhtffWsZM",
        "outputId": "7ccfed39-4c83-4c76-cb5e-0a9392cd5adf"
      },
      "execution_count": null,
      "outputs": [
        {
          "output_type": "stream",
          "name": "stdout",
          "text": [
            "                 A           B    C\n",
            "count   100.000000  100.000000  100\n",
            "unique         NaN         NaN    3\n",
            "top            NaN         NaN    X\n",
            "freq           NaN         NaN   34\n",
            "mean      0.557532    4.690000  NaN\n",
            "std       0.278228    2.953153  NaN\n",
            "min       0.029775    0.000000  NaN\n",
            "25%       0.323039    2.000000  NaN\n",
            "50%       0.542526    5.000000  NaN\n",
            "75%       0.835579    7.000000  NaN\n",
            "max       0.997728    9.000000  NaN\n",
            "\n",
            "Summary using NumPy for Numerical Columns:\n"
          ]
        },
        {
          "output_type": "execute_result",
          "data": {
            "text/plain": [
              "{'mean': A    0.557532\n",
              " B    4.690000\n",
              " dtype: float64,\n",
              " 'std': A    0.276833\n",
              " B    2.938350\n",
              " dtype: float64,\n",
              " 'min': A    0.029775\n",
              " B    0.000000\n",
              " dtype: float64,\n",
              " 'max': A    0.997728\n",
              " B    9.000000\n",
              " dtype: float64,\n",
              " 'median': array([0.54252631, 5.        ])}"
            ]
          },
          "metadata": {},
          "execution_count": 20
        }
      ]
    },
    {
      "cell_type": "markdown",
      "source": [
        "16.  Plot a boxplot to understand the spread and identify outliers."
      ],
      "metadata": {
        "id": "_sFj0DbeWyCs"
      }
    },
    {
      "cell_type": "code",
      "source": [
        "import matplotlib.pyplot as plt\n",
        "import numpy as np\n",
        "\n",
        "# Sample data (replace with your actual dataset)\n",
        "data = np.random.normal(loc=0, scale=1, size=100)  # Example: normally distributed data\n",
        "data = np.concatenate((data, [5, -5]))  # Add outliers\n",
        "\n",
        "# Create the boxplot\n",
        "plt.boxplot(data)\n",
        "plt.ylabel('Value')\n",
        "plt.title('Boxplot of Dataset')\n",
        "\n",
        "# Customize the plot (optional)\n",
        "plt.grid(True)\n",
        "\n",
        "# Show the plot\n",
        "plt.show()\n"
      ],
      "metadata": {
        "colab": {
          "base_uri": "https://localhost:8080/",
          "height": 452
        },
        "id": "wmlOhgGxW28d",
        "outputId": "7be98881-9cc8-4015-dc28-6b5733878265"
      },
      "execution_count": null,
      "outputs": [
        {
          "output_type": "display_data",
          "data": {
            "text/plain": [
              "<Figure size 640x480 with 1 Axes>"
            ],
            "image/png": "[encoded data removed]"
          },
          "metadata": {}
        }
      ]
    },
    {
      "cell_type": "markdown",
      "source": [
        "17. Calculate the interquartile range (IQR) of a dataset."
      ],
      "metadata": {
        "id": "c1IFLIqwW9Uc"
      }
    },
    {
      "cell_type": "code",
      "source": [
        "def calculate_iqr(data):\n",
        "    \"\"\"Calculates the interquartile range (IQR) of a dataset.\n",
        "\n",
        "    Args:\n",
        "      data: A list or numpy array of numerical values.\n",
        "\n",
        "    Returns:\n",
        "      The IQR of the dataset.\n",
        "      Returns an error message if the input is invalid.\n",
        "    \"\"\"\n",
        "    if not isinstance(data, (list, np.ndarray)):\n",
        "        return \"Error: Input must be a list or numpy array.\"\n",
        "    if not all(isinstance(x, (int, float)) for x in data):\n",
        "        return \"Error: Dataset must contain numerical values.\"\n",
        "\n",
        "    data = np.array(data)  # Convert to NumPy array for easier calculations\n",
        "    q1 = np.percentile(data, 25)\n",
        "    q3 = np.percentile(data, 75)\n",
        "    iqr = q3 - q1\n",
        "    return iqr\n",
        "\n",
        "# Example usage\n",
        "data = [1, 2, 3, 4, 5, 6, 7, 8, 9, 10]\n",
        "iqr = calculate_iqr(data)\n",
        "print(f\"IQR: {iqr}\")\n"
      ],
      "metadata": {
        "colab": {
          "base_uri": "https://localhost:8080/"
        },
        "id": "SyBw0h60XDW0",
        "outputId": "19ce2fa2-4fe2-4c04-9a99-ca2fcc2d238d"
      },
      "execution_count": null,
      "outputs": [
        {
          "output_type": "stream",
          "name": "stdout",
          "text": [
            "IQR: 4.5\n"
          ]
        }
      ]
    },
    {
      "cell_type": "markdown",
      "source": [
        "18.  Implement Z-score normalization and explain its significance."
      ],
      "metadata": {
        "id": "7buCM2uxXIdU"
      }
    },
    {
      "cell_type": "code",
      "source": [
        "def z_score_normalize(data):\n",
        "    \"\"\"\n",
        "    Performs Z-score normalization on a dataset.\n",
        "\n",
        "    Args:\n",
        "        data: A list or numpy array of numerical values.\n",
        "\n",
        "    Returns:\n",
        "        A list of normalized values.\n",
        "        Returns an error message if the input is invalid.\n",
        "    \"\"\"\n",
        "    if not isinstance(data, (list, np.ndarray)):\n",
        "        return \"Error: Input must be a list or numpy array.\"\n",
        "    if not all(isinstance(x, (int, float)) for x in data):\n",
        "        return \"Error: Dataset must contain numerical values.\"\n",
        "\n",
        "    data = np.array(data)\n",
        "    mean = np.mean(data)\n",
        "    std_dev = np.std(data)\n",
        "\n",
        "    if std_dev == 0:\n",
        "      return \"Error: Standard deviation cannot be zero.\"\n",
        "\n",
        "    normalized_data = (data - mean) / std_dev\n",
        "    return normalized_data.tolist()\n",
        "\n",
        "# Example usage\n",
        "data = [1, 2, 3, 4, 5, 6, 7, 8, 9, 10]\n",
        "normalized_data = z_score_normalize(data)\n",
        "print(f\"Normalized data: {normalized_data}\")\n",
        "\n",
        "#Significance of Z-score normalization:\n",
        "# 1. Centering and Scaling: It transforms data to have a mean of 0 and a standard deviation of 1. This removes the influence of different scales and units of measurement.\n",
        "# 2. Outlier Detection: Z-scores help identify outliers. Values with a Z-score far from 0 (typically >3 or <-3) are considered potential outliers.\n",
        "# 3. Feature Scaling for ML: Many machine learning algorithms are sensitive to feature scaling. Z-score normalization is a common preprocessing step to improve model performance.\n",
        "# 4. Statistical Analysis: In statistical analysis, Z-scores allow comparisons between data points from different distributions.\n",
        "# 5. Data standardization:  Useful for comparisons across different datasets or features.\n"
      ],
      "metadata": {
        "colab": {
          "base_uri": "https://localhost:8080/"
        },
        "id": "NnDz07vpXMv-",
        "outputId": "c948fe74-928f-4d08-a2bc-d6ba97ec992a"
      },
      "execution_count": null,
      "outputs": [
        {
          "output_type": "stream",
          "name": "stdout",
          "text": [
            "Normalized data: [-1.5666989036012806, -1.2185435916898848, -0.8703882797784892, -0.5222329678670935, -0.17407765595569785, 0.17407765595569785, 0.5222329678670935, 0.8703882797784892, 1.2185435916898848, 1.5666989036012806]\n"
          ]
        }
      ]
    },
    {
      "cell_type": "markdown",
      "source": [
        "19. Compare two datasets using their standard deviations."
      ],
      "metadata": {
        "id": "BqCgawX1XSDs"
      }
    },
    {
      "cell_type": "code",
      "source": [
        "import numpy as np\n",
        "\n",
        "def compare_datasets_std(dataset1, dataset2):\n",
        "    \"\"\"Compares two datasets based on their standard deviations.\n",
        "\n",
        "    Args:\n",
        "      dataset1: A list or numpy array of numerical values.\n",
        "      dataset2: A list or numpy array of numerical values.\n",
        "\n",
        "    Returns:\n",
        "      A string indicating which dataset has a larger standard deviation,\n",
        "      or a message if the input is invalid or the standard deviations are equal.\n",
        "    \"\"\"\n",
        "    if not isinstance(dataset1, (list, np.ndarray)) or not isinstance(dataset2, (list, np.ndarray)):\n",
        "        return \"Error: Inputs must be lists or numpy arrays.\"\n",
        "    if not all(isinstance(x, (int, float)) for x in dataset1) or not all(isinstance(x, (int, float)) for x in dataset2):\n",
        "        return \"Error: Datasets must contain numerical values.\"\n",
        "\n",
        "    std_dev1 = np.std(dataset1)\n",
        "    std_dev2 = np.std(dataset2)\n",
        "\n",
        "    if std_dev1 > std_dev2:\n",
        "        return \"Dataset 1 has a larger standard deviation.\"\n",
        "    elif std_dev2 > std_dev1:\n",
        "        return \"Dataset 2 has a larger standard deviation.\"\n",
        "    else:\n",
        "        return \"Datasets have equal standard deviations.\"\n",
        "\n",
        "# Example usage\n",
        "data1 = [1, 2, 3, 4, 5]\n",
        "data2 = [1, 1, 1, 10, 10]\n",
        "\n",
        "comparison_result = compare_datasets_std(data1, data2)\n",
        "comparison_result\n"
      ],
      "metadata": {
        "colab": {
          "base_uri": "https://localhost:8080/",
          "height": 35
        },
        "id": "nGVh690fXWxc",
        "outputId": "2e8c6ce7-dfc8-4746-97df-88b3df251f19"
      },
      "execution_count": null,
      "outputs": [
        {
          "output_type": "execute_result",
          "data": {
            "text/plain": [
              "'Dataset 2 has a larger standard deviation.'"
            ],
            "application/vnd.google.colaboratory.intrinsic+json": {
              "type": "string"
            }
          },
          "metadata": {},
          "execution_count": 24
        }
      ]
    },
    {
      "cell_type": "markdown",
      "source": [
        "20. Write a Python program to visualize covariance using a heatmap."
      ],
      "metadata": {
        "id": "MhbIEz8bXbuU"
      }
    },
    {
      "cell_type": "code",
      "source": [
        "import seaborn as sns\n",
        "import matplotlib.pyplot as plt\n",
        "\n",
        "def visualize_covariance_heatmap(data):\n",
        "    \"\"\"\n",
        "    Visualizes the covariance of a dataset using a heatmap.\n",
        "\n",
        "    Args:\n",
        "        data: A pandas DataFrame or a NumPy array.\n",
        "    \"\"\"\n",
        "    if isinstance(data, np.ndarray):\n",
        "        data = pd.DataFrame(data)  # Convert NumPy array to DataFrame for seaborn\n",
        "\n",
        "    covariance_matrix = data.cov()\n",
        "    plt.figure(figsize=(8, 6))\n",
        "    sns.heatmap(covariance_matrix, annot=True, cmap='coolwarm', fmt=\".2f\")\n",
        "    plt.title(\"Covariance Heatmap\")\n",
        "    plt.show()\n",
        "\n",
        "# Example usage with a DataFrame (replace with your actual DataFrame)\n",
        "data = {'A': [1, 2, 3, 4, 5], 'B': [5, 4, 3, 2, 1], 'C': [2, 4, 1, 5, 3]}\n",
        "df = pd.DataFrame(data)\n",
        "visualize_covariance_heatmap(df)\n",
        "\n",
        "# Example usage with a NumPy array:\n",
        "data_array = np.array([[1, 2, 3], [4, 5, 6], [7, 8, 9]])\n",
        "visualize_covariance_heatmap(data_array)\n"
      ],
      "metadata": {
        "colab": {
          "base_uri": "https://localhost:8080/",
          "height": 1000
        },
        "id": "Iiqdz9R7XmFk",
        "outputId": "e3855c5e-6b8e-480a-98bd-790172767585"
      },
      "execution_count": null,
      "outputs": [
        {
          "output_type": "display_data",
          "data": {
            "text/plain": [
              "<Figure size 800x600 with 2 Axes>"
            ],
            "image/png": "[encoded data removed]"
          },
          "metadata": {}
        },
        {
          "output_type": "display_data",
          "data": {
            "text/plain": [
              "<Figure size 800x600 with 2 Axes>"
            ],
            "image/png": "[encoded data removed]"
          },
          "metadata": {}
        }
      ]
    },
    {
      "cell_type": "markdown",
      "source": [
        "21.  Use seaborn to create a correlation matrix for a dataset."
      ],
      "metadata": {
        "id": "wsMQW3XmX7Mc"
      }
    },
    {
      "cell_type": "code",
      "source": [
        "def visualize_correlation_matrix(data):\n",
        "    \"\"\"\n",
        "    Visualizes the correlation matrix of a dataset using a heatmap.\n",
        "\n",
        "    Args:\n",
        "        data: A pandas DataFrame.\n",
        "    \"\"\"\n",
        "    if not isinstance(data, pd.DataFrame):\n",
        "        return \"Error: Input must be a pandas DataFrame\"\n",
        "\n",
        "    correlation_matrix = data.corr()\n",
        "    plt.figure(figsize=(8, 6))\n",
        "    sns.heatmap(correlation_matrix, annot=True, cmap='coolwarm', fmt=\".2f\")\n",
        "    plt.title(\"Correlation Matrix Heatmap\")\n",
        "    plt.show()\n",
        "\n",
        "# Example usage (replace with your actual DataFrame)\n",
        "data = {'A': [1, 2, 3, 4, 5], 'B': [5, 4, 3, 2, 1], 'C': [2, 4, 1, 5, 3]}\n",
        "df = pd.DataFrame(data)\n",
        "visualize_correlation_matrix(df)\n"
      ],
      "metadata": {
        "colab": {
          "base_uri": "https://localhost:8080/",
          "height": 545
        },
        "id": "6oAEyd1eYCDM",
        "outputId": "bcdb0675-ac2a-4fa4-8c9e-6db45a97061d"
      },
      "execution_count": null,
      "outputs": [
        {
          "output_type": "display_data",
          "data": {
            "text/plain": [
              "<Figure size 800x600 with 2 Axes>"
            ],
            "image/png": "[encoded data removed]"
          },
          "metadata": {}
        }
      ]
    },
    {
      "cell_type": "markdown",
      "source": [
        "22. Generate a dataset and implement both variance and standard deviation computations."
      ],
      "metadata": {
        "id": "Xd3w1OrwYI-M"
      }
    },
    {
      "cell_type": "code",
      "source": [
        "import numpy as np\n",
        "\n",
        "def calculate_variance_std(data):\n",
        "    \"\"\"Calculates the variance and standard deviation of a dataset.\n",
        "\n",
        "    Args:\n",
        "        data: A list or numpy array of numerical values.\n",
        "\n",
        "    Returns:\n",
        "        A dictionary containing the variance and standard deviation.\n",
        "        Returns an error message if input is invalid.\n",
        "    \"\"\"\n",
        "    if not isinstance(data, (list, np.ndarray)):\n",
        "        return \"Error: Input must be a list or numpy array.\"\n",
        "    if not all(isinstance(x, (int, float)) for x in data):\n",
        "        return \"Error: Dataset must contain numerical values.\"\n",
        "\n",
        "    data = np.array(data)\n",
        "    variance = np.var(data)\n",
        "    std_dev = np.std(data)\n",
        "    return {\"variance\": variance, \"std_dev\": std_dev}\n",
        "\n",
        "\n",
        "# Example usage: Generate a random dataset\n",
        "dataset = np.random.rand(100)  # Generate 100 random numbers between 0 and 1\n",
        "results = calculate_variance_std(dataset)\n",
        "results\n"
      ],
      "metadata": {
        "colab": {
          "base_uri": "https://localhost:8080/"
        },
        "id": "wSiYc0jfYPZk",
        "outputId": "65c76e9b-5362-4487-ab84-8d3089ec93ad"
      },
      "execution_count": null,
      "outputs": [
        {
          "output_type": "execute_result",
          "data": {
            "text/plain": [
              "{'variance': 0.08817645622720677, 'std_dev': 0.2969452074494666}"
            ]
          },
          "metadata": {},
          "execution_count": 27
        }
      ]
    },
    {
      "cell_type": "markdown",
      "source": [
        "23. Visualize skewness and kurtosis using Python libraries like matplotlib or seaborn."
      ],
      "metadata": {
        "id": "rA1VXLk7YT9c"
      }
    },
    {
      "cell_type": "code",
      "source": [
        "import matplotlib.pyplot as plt\n",
        "import numpy as np\n",
        "from scipy.stats import skew, kurtosis\n",
        "\n",
        "def visualize_skewness_kurtosis(data):\n",
        "    \"\"\"\n",
        "    Visualizes the skewness and kurtosis of a dataset.\n",
        "\n",
        "    Args:\n",
        "        data: A list or numpy array of numerical values.\n",
        "    \"\"\"\n",
        "    if not isinstance(data, (list, np.ndarray)):\n",
        "        print(\"Error: Input must be a list or numpy array.\")\n",
        "        return\n",
        "\n",
        "    data = np.array(data)  # Convert to numpy array for calculations\n",
        "    skewness = skew(data)\n",
        "    kurt = kurtosis(data)\n",
        "\n",
        "    # Create a figure and an axes\n",
        "    fig, ax = plt.subplots()\n",
        "\n",
        "    # Plot the data's distribution\n",
        "    ax.hist(data, bins=30, edgecolor='black')  # You can customize bins\n",
        "\n",
        "    # Add text annotations for skewness and kurtosis\n",
        "    ax.text(0.05, 0.95, f'Skewness: {skewness:.2f}', transform=ax.transAxes, fontsize=12, verticalalignment='top')\n",
        "    ax.text(0.05, 0.90, f'Kurtosis: {kurt:.2f}', transform=ax.transAxes, fontsize=12, verticalalignment='top')\n",
        "\n",
        "\n",
        "    ax.set_xlabel('Value')\n",
        "    ax.set_ylabel('Frequency')\n",
        "    ax.set_title('Distribution with Skewness and Kurtosis')\n",
        "    plt.show()\n",
        "\n",
        "# Example usage:\n",
        "data = np.random.normal(0, 1, 1000)  # Example normally distributed data\n",
        "visualize_skewness_kurtosis(data)\n",
        "\n",
        "data_skewed = np.random.exponential(1, 1000)\n",
        "visualize_skewness_kurtosis(data_skewed)\n"
      ],
      "metadata": {
        "colab": {
          "base_uri": "https://localhost:8080/",
          "height": 927
        },
        "id": "VDumCX-lYaWM",
        "outputId": "c36a32db-25b0-4a2d-b9b4-881076be9188"
      },
      "execution_count": null,
      "outputs": [
        {
          "output_type": "display_data",
          "data": {
            "text/plain": [
              "<Figure size 640x480 with 1 Axes>"
            ],
            "image/png": "[encoded data removed]"
          },
          "metadata": {}
        },
        {
          "output_type": "display_data",
          "data": {
            "text/plain": [
              "<Figure size 640x480 with 1 Axes>"
            ],
            "image/png": "[encoded data removed]"
          },
          "metadata": {}
        }
      ]
    },
    {
      "cell_type": "markdown",
      "source": [
        "24. Implement the Pearson and Spearman correlation coefficients for a dataset."
      ],
      "metadata": {
        "id": "rSKjEmQ5YgEE"
      }
    },
    {
      "cell_type": "code",
      "source": [
        "import scipy.stats as stats\n",
        "\n",
        "def calculate_pearson_spearman(dataset1, dataset2):\n",
        "    \"\"\"Calculates Pearson and Spearman correlation coefficients.\n",
        "\n",
        "    Args:\n",
        "      dataset1: A list or numpy array of numerical values.\n",
        "      dataset2: A list or numpy array of numerical values.\n",
        "\n",
        "    Returns:\n",
        "      A dictionary containing Pearson and Spearman correlation coefficients.\n",
        "      Returns an error message if the input is invalid.\n",
        "    \"\"\"\n",
        "    if not isinstance(dataset1, (list, np.ndarray)) or not isinstance(dataset2, (list, np.ndarray)):\n",
        "        return \"Error: Inputs must be lists or numpy arrays.\"\n",
        "\n",
        "    if len(dataset1) != len(dataset2):\n",
        "        return \"Error: Datasets must have the same length.\"\n",
        "\n",
        "    if not all(isinstance(x, (int, float)) for x in dataset1) or not all(isinstance(x, (int, float)) for x in dataset2):\n",
        "        return \"Error: Datasets must contain numerical values.\"\n",
        "\n",
        "    dataset1 = np.array(dataset1)\n",
        "    dataset2 = np.array(dataset2)\n",
        "\n",
        "    pearson_coef, pearson_p = stats.pearsonr(dataset1, dataset2)\n",
        "    spearman_coef, spearman_p = stats.spearmanr(dataset1, dataset2)\n",
        "\n",
        "    return {\n",
        "        \"pearson_correlation\": pearson_coef,\n",
        "        \"pearson_p_value\": pearson_p,\n",
        "        \"spearman_correlation\": spearman_coef,\n",
        "        \"spearman_p_value\": spearman_p\n",
        "    }\n",
        "\n",
        "# Example Usage\n",
        "data1 = [1, 2, 3, 4, 5]\n",
        "data2 = [5, 4, 3, 2, 1]\n",
        "correlations = calculate_pearson_spearman(data1, data2)\n",
        "correlations\n"
      ],
      "metadata": {
        "colab": {
          "base_uri": "https://localhost:8080/"
        },
        "id": "w6ZRDrG1Yuxz",
        "outputId": "0fbd5e21-fa93-4441-bf8b-d1ebecf6f83b"
      },
      "execution_count": null,
      "outputs": [
        {
          "output_type": "execute_result",
          "data": {
            "text/plain": [
              "{'pearson_correlation': -1.0,\n",
              " 'pearson_p_value': 0.0,\n",
              " 'spearman_correlation': -0.9999999999999999,\n",
              " 'spearman_p_value': 1.4042654220543672e-24}"
            ]
          },
          "metadata": {},
          "execution_count": 29
        }
      ]
    }
  ]
}